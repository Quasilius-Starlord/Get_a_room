{
 "cells": [
  {
   "cell_type": "code",
   "execution_count": 1,
   "id": "abc1ca3b",
   "metadata": {},
   "outputs": [],
   "source": [
    "import pandas as pd\n",
    "import numpy as np\n",
    "from sklearn.model_selection import train_test_split\n",
    "import matplotlib.pyplot as plt\n",
    "from sklearn.ensemble import RandomForestRegressor\n",
    "import xgboost as xgbt\n",
    "from sklearn import preprocessing\n",
    "\n",
    "path_train = './dataset/train.csv'\n",
    "path_test = './dataset/test.csv'\n",
    "house_data = pd.read_csv(path_train)\n",
    "house_test = pd.read_csv(path_test)"
   ]
  },
  {
   "cell_type": "code",
   "execution_count": 2,
   "id": "93cac6fd",
   "metadata": {},
   "outputs": [
    {
     "data": {
      "text/html": [
       "<div>\n",
       "<style scoped>\n",
       "    .dataframe tbody tr th:only-of-type {\n",
       "        vertical-align: middle;\n",
       "    }\n",
       "\n",
       "    .dataframe tbody tr th {\n",
       "        vertical-align: top;\n",
       "    }\n",
       "\n",
       "    .dataframe thead th {\n",
       "        text-align: right;\n",
       "    }\n",
       "</style>\n",
       "<table border=\"1\" class=\"dataframe\">\n",
       "  <thead>\n",
       "    <tr style=\"text-align: right;\">\n",
       "      <th></th>\n",
       "      <th>Property_ID</th>\n",
       "      <th>Property_Type</th>\n",
       "      <th>Property_Area</th>\n",
       "      <th>Number_of_Windows</th>\n",
       "      <th>Number_of_Doors</th>\n",
       "      <th>Furnishing</th>\n",
       "      <th>Frequency_of_Powercuts</th>\n",
       "      <th>Power_Backup</th>\n",
       "      <th>Water_Supply</th>\n",
       "      <th>Traffic_Density_Score</th>\n",
       "      <th>Crime_Rate</th>\n",
       "      <th>Dust_and_Noise</th>\n",
       "      <th>Air_Quality_Index</th>\n",
       "      <th>Neighborhood_Review</th>\n",
       "      <th>Habitability_score</th>\n",
       "    </tr>\n",
       "  </thead>\n",
       "  <tbody>\n",
       "    <tr>\n",
       "      <th>0</th>\n",
       "      <td>0x21e3</td>\n",
       "      <td>Apartment</td>\n",
       "      <td>106</td>\n",
       "      <td>NaN</td>\n",
       "      <td>1</td>\n",
       "      <td>Semi_Furnished</td>\n",
       "      <td>0.0</td>\n",
       "      <td>No</td>\n",
       "      <td>Once in a day - Morning</td>\n",
       "      <td>5.89</td>\n",
       "      <td>Slightly below average</td>\n",
       "      <td>Medium</td>\n",
       "      <td>90.0</td>\n",
       "      <td>3.86</td>\n",
       "      <td>71.98</td>\n",
       "    </tr>\n",
       "    <tr>\n",
       "      <th>1</th>\n",
       "      <td>0x68d4</td>\n",
       "      <td>Apartment</td>\n",
       "      <td>733</td>\n",
       "      <td>2.0</td>\n",
       "      <td>2</td>\n",
       "      <td>Unfurnished</td>\n",
       "      <td>1.0</td>\n",
       "      <td>No</td>\n",
       "      <td>Once in a day - Evening</td>\n",
       "      <td>4.37</td>\n",
       "      <td>Well below average</td>\n",
       "      <td>Medium</td>\n",
       "      <td>96.0</td>\n",
       "      <td>3.55</td>\n",
       "      <td>71.20</td>\n",
       "    </tr>\n",
       "    <tr>\n",
       "      <th>2</th>\n",
       "      <td>0x7d81</td>\n",
       "      <td>Apartment</td>\n",
       "      <td>737</td>\n",
       "      <td>4.0</td>\n",
       "      <td>2</td>\n",
       "      <td>Fully Furnished</td>\n",
       "      <td>0.0</td>\n",
       "      <td>No</td>\n",
       "      <td>Once in a day - Morning</td>\n",
       "      <td>7.45</td>\n",
       "      <td>Slightly below average</td>\n",
       "      <td>Medium</td>\n",
       "      <td>121.0</td>\n",
       "      <td>3.81</td>\n",
       "      <td>71.39</td>\n",
       "    </tr>\n",
       "    <tr>\n",
       "      <th>3</th>\n",
       "      <td>0x7a57</td>\n",
       "      <td>Apartment</td>\n",
       "      <td>900</td>\n",
       "      <td>3.0</td>\n",
       "      <td>2</td>\n",
       "      <td>Unfurnished</td>\n",
       "      <td>2.0</td>\n",
       "      <td>Yes</td>\n",
       "      <td>Once in a day - Morning</td>\n",
       "      <td>6.16</td>\n",
       "      <td>Well above average</td>\n",
       "      <td>Medium</td>\n",
       "      <td>100.0</td>\n",
       "      <td>1.34</td>\n",
       "      <td>31.46</td>\n",
       "    </tr>\n",
       "    <tr>\n",
       "      <th>4</th>\n",
       "      <td>0x9409</td>\n",
       "      <td>Bungalow</td>\n",
       "      <td>2238</td>\n",
       "      <td>14.0</td>\n",
       "      <td>6</td>\n",
       "      <td>Fully Furnished</td>\n",
       "      <td>0.0</td>\n",
       "      <td>No</td>\n",
       "      <td>All time</td>\n",
       "      <td>5.46</td>\n",
       "      <td>Well below average</td>\n",
       "      <td>Medium</td>\n",
       "      <td>116.0</td>\n",
       "      <td>4.77</td>\n",
       "      <td>93.70</td>\n",
       "    </tr>\n",
       "  </tbody>\n",
       "</table>\n",
       "</div>"
      ],
      "text/plain": [
       "  Property_ID Property_Type  Property_Area  Number_of_Windows  \\\n",
       "0      0x21e3     Apartment            106                NaN   \n",
       "1      0x68d4     Apartment            733                2.0   \n",
       "2      0x7d81     Apartment            737                4.0   \n",
       "3      0x7a57     Apartment            900                3.0   \n",
       "4      0x9409      Bungalow           2238               14.0   \n",
       "\n",
       "   Number_of_Doors       Furnishing  Frequency_of_Powercuts Power_Backup  \\\n",
       "0                1   Semi_Furnished                     0.0           No   \n",
       "1                2      Unfurnished                     1.0           No   \n",
       "2                2  Fully Furnished                     0.0           No   \n",
       "3                2      Unfurnished                     2.0          Yes   \n",
       "4                6  Fully Furnished                     0.0           No   \n",
       "\n",
       "              Water_Supply  Traffic_Density_Score              Crime_Rate  \\\n",
       "0  Once in a day - Morning                   5.89  Slightly below average   \n",
       "1  Once in a day - Evening                   4.37      Well below average   \n",
       "2  Once in a day - Morning                   7.45  Slightly below average   \n",
       "3  Once in a day - Morning                   6.16      Well above average   \n",
       "4                 All time                   5.46      Well below average   \n",
       "\n",
       "  Dust_and_Noise  Air_Quality_Index  Neighborhood_Review  Habitability_score  \n",
       "0         Medium               90.0                 3.86               71.98  \n",
       "1         Medium               96.0                 3.55               71.20  \n",
       "2         Medium              121.0                 3.81               71.39  \n",
       "3         Medium              100.0                 1.34               31.46  \n",
       "4         Medium              116.0                 4.77               93.70  "
      ]
     },
     "execution_count": 2,
     "metadata": {},
     "output_type": "execute_result"
    }
   ],
   "source": [
    "house_data.head()"
   ]
  },
  {
   "cell_type": "code",
   "execution_count": 3,
   "id": "316b89fc",
   "metadata": {},
   "outputs": [
    {
     "data": {
      "text/html": [
       "<div>\n",
       "<style scoped>\n",
       "    .dataframe tbody tr th:only-of-type {\n",
       "        vertical-align: middle;\n",
       "    }\n",
       "\n",
       "    .dataframe tbody tr th {\n",
       "        vertical-align: top;\n",
       "    }\n",
       "\n",
       "    .dataframe thead th {\n",
       "        text-align: right;\n",
       "    }\n",
       "</style>\n",
       "<table border=\"1\" class=\"dataframe\">\n",
       "  <thead>\n",
       "    <tr style=\"text-align: right;\">\n",
       "      <th></th>\n",
       "      <th>Property_ID</th>\n",
       "      <th>Property_Type</th>\n",
       "      <th>Property_Area</th>\n",
       "      <th>Number_of_Windows</th>\n",
       "      <th>Number_of_Doors</th>\n",
       "      <th>Furnishing</th>\n",
       "      <th>Frequency_of_Powercuts</th>\n",
       "      <th>Power_Backup</th>\n",
       "      <th>Water_Supply</th>\n",
       "      <th>Traffic_Density_Score</th>\n",
       "      <th>Crime_Rate</th>\n",
       "      <th>Dust_and_Noise</th>\n",
       "      <th>Air_Quality_Index</th>\n",
       "      <th>Neighborhood_Review</th>\n",
       "    </tr>\n",
       "  </thead>\n",
       "  <tbody>\n",
       "    <tr>\n",
       "      <th>0</th>\n",
       "      <td>0x6e93</td>\n",
       "      <td>Apartment</td>\n",
       "      <td>293</td>\n",
       "      <td>3.0</td>\n",
       "      <td>1</td>\n",
       "      <td>Unfurnished</td>\n",
       "      <td>0.0</td>\n",
       "      <td>No</td>\n",
       "      <td>Once in a day - Morning</td>\n",
       "      <td>7.28</td>\n",
       "      <td>Well above average</td>\n",
       "      <td>Medium</td>\n",
       "      <td>152.0</td>\n",
       "      <td>2.52</td>\n",
       "    </tr>\n",
       "    <tr>\n",
       "      <th>1</th>\n",
       "      <td>0x8787</td>\n",
       "      <td>Apartment</td>\n",
       "      <td>586</td>\n",
       "      <td>4.0</td>\n",
       "      <td>1</td>\n",
       "      <td>Semi_Furnished</td>\n",
       "      <td>0.0</td>\n",
       "      <td>No</td>\n",
       "      <td>Once in a day - Evening</td>\n",
       "      <td>7.63</td>\n",
       "      <td>Well below average</td>\n",
       "      <td>Medium</td>\n",
       "      <td>92.0</td>\n",
       "      <td>4.16</td>\n",
       "    </tr>\n",
       "    <tr>\n",
       "      <th>2</th>\n",
       "      <td>0x6c17</td>\n",
       "      <td>Container Home</td>\n",
       "      <td>305</td>\n",
       "      <td>1.0</td>\n",
       "      <td>2</td>\n",
       "      <td>Semi_Furnished</td>\n",
       "      <td>1.0</td>\n",
       "      <td>No</td>\n",
       "      <td>All time</td>\n",
       "      <td>5.39</td>\n",
       "      <td>Slightly above average</td>\n",
       "      <td>Medium</td>\n",
       "      <td>90.0</td>\n",
       "      <td>2.92</td>\n",
       "    </tr>\n",
       "    <tr>\n",
       "      <th>3</th>\n",
       "      <td>0x9dbd</td>\n",
       "      <td>Apartment</td>\n",
       "      <td>258</td>\n",
       "      <td>2.0</td>\n",
       "      <td>1</td>\n",
       "      <td>Semi_Furnished</td>\n",
       "      <td>1.0</td>\n",
       "      <td>No</td>\n",
       "      <td>All time</td>\n",
       "      <td>7.53</td>\n",
       "      <td>Slightly below average</td>\n",
       "      <td>Medium</td>\n",
       "      <td>158.0</td>\n",
       "      <td>3.45</td>\n",
       "    </tr>\n",
       "    <tr>\n",
       "      <th>4</th>\n",
       "      <td>0xbfde</td>\n",
       "      <td>Bungalow</td>\n",
       "      <td>3031</td>\n",
       "      <td>12.0</td>\n",
       "      <td>4</td>\n",
       "      <td>Fully Furnished</td>\n",
       "      <td>0.0</td>\n",
       "      <td>No</td>\n",
       "      <td>All time</td>\n",
       "      <td>8.79</td>\n",
       "      <td>Well above average</td>\n",
       "      <td>High</td>\n",
       "      <td>186.0</td>\n",
       "      <td>2.72</td>\n",
       "    </tr>\n",
       "  </tbody>\n",
       "</table>\n",
       "</div>"
      ],
      "text/plain": [
       "  Property_ID   Property_Type  Property_Area  Number_of_Windows  \\\n",
       "0      0x6e93       Apartment            293                3.0   \n",
       "1      0x8787       Apartment            586                4.0   \n",
       "2      0x6c17  Container Home            305                1.0   \n",
       "3      0x9dbd       Apartment            258                2.0   \n",
       "4      0xbfde        Bungalow           3031               12.0   \n",
       "\n",
       "   Number_of_Doors       Furnishing  Frequency_of_Powercuts Power_Backup  \\\n",
       "0                1      Unfurnished                     0.0           No   \n",
       "1                1   Semi_Furnished                     0.0           No   \n",
       "2                2   Semi_Furnished                     1.0           No   \n",
       "3                1   Semi_Furnished                     1.0           No   \n",
       "4                4  Fully Furnished                     0.0           No   \n",
       "\n",
       "              Water_Supply  Traffic_Density_Score              Crime_Rate  \\\n",
       "0  Once in a day - Morning                   7.28      Well above average   \n",
       "1  Once in a day - Evening                   7.63      Well below average   \n",
       "2                 All time                   5.39  Slightly above average   \n",
       "3                 All time                   7.53  Slightly below average   \n",
       "4                 All time                   8.79      Well above average   \n",
       "\n",
       "  Dust_and_Noise  Air_Quality_Index  Neighborhood_Review  \n",
       "0         Medium              152.0                 2.52  \n",
       "1         Medium               92.0                 4.16  \n",
       "2         Medium               90.0                 2.92  \n",
       "3         Medium              158.0                 3.45  \n",
       "4           High              186.0                 2.72  "
      ]
     },
     "execution_count": 3,
     "metadata": {},
     "output_type": "execute_result"
    }
   ],
   "source": [
    "house_test.head()"
   ]
  },
  {
   "cell_type": "code",
   "execution_count": 4,
   "id": "408c6b7b",
   "metadata": {},
   "outputs": [],
   "source": [
    "house_data['w/d'] = house_data['Number_of_Windows']/house_data['Number_of_Doors']"
   ]
  },
  {
   "cell_type": "code",
   "execution_count": 5,
   "id": "f98781d6",
   "metadata": {},
   "outputs": [
    {
     "data": {
      "text/html": [
       "<div>\n",
       "<style scoped>\n",
       "    .dataframe tbody tr th:only-of-type {\n",
       "        vertical-align: middle;\n",
       "    }\n",
       "\n",
       "    .dataframe tbody tr th {\n",
       "        vertical-align: top;\n",
       "    }\n",
       "\n",
       "    .dataframe thead th {\n",
       "        text-align: right;\n",
       "    }\n",
       "</style>\n",
       "<table border=\"1\" class=\"dataframe\">\n",
       "  <thead>\n",
       "    <tr style=\"text-align: right;\">\n",
       "      <th></th>\n",
       "      <th>Property_Area</th>\n",
       "      <th>Number_of_Windows</th>\n",
       "      <th>Number_of_Doors</th>\n",
       "      <th>Frequency_of_Powercuts</th>\n",
       "      <th>Traffic_Density_Score</th>\n",
       "      <th>Air_Quality_Index</th>\n",
       "      <th>Neighborhood_Review</th>\n",
       "      <th>Habitability_score</th>\n",
       "      <th>w/d</th>\n",
       "    </tr>\n",
       "  </thead>\n",
       "  <tbody>\n",
       "    <tr>\n",
       "      <th>count</th>\n",
       "      <td>39499.000000</td>\n",
       "      <td>37845.000000</td>\n",
       "      <td>39499.000000</td>\n",
       "      <td>38116.000000</td>\n",
       "      <td>39499.000000</td>\n",
       "      <td>39499.000000</td>\n",
       "      <td>39499.000000</td>\n",
       "      <td>39499.000000</td>\n",
       "      <td>37845.000000</td>\n",
       "    </tr>\n",
       "    <tr>\n",
       "      <th>mean</th>\n",
       "      <td>1391.715638</td>\n",
       "      <td>3.923768</td>\n",
       "      <td>2.331375</td>\n",
       "      <td>0.484678</td>\n",
       "      <td>6.354772</td>\n",
       "      <td>121.352566</td>\n",
       "      <td>3.735945</td>\n",
       "      <td>73.482297</td>\n",
       "      <td>1.982409</td>\n",
       "    </tr>\n",
       "    <tr>\n",
       "      <th>std</th>\n",
       "      <td>1953.287544</td>\n",
       "      <td>2.690992</td>\n",
       "      <td>1.179964</td>\n",
       "      <td>0.752207</td>\n",
       "      <td>1.219681</td>\n",
       "      <td>62.384669</td>\n",
       "      <td>0.796843</td>\n",
       "      <td>14.118753</td>\n",
       "      <td>1.433053</td>\n",
       "    </tr>\n",
       "    <tr>\n",
       "      <th>min</th>\n",
       "      <td>100.000000</td>\n",
       "      <td>0.000000</td>\n",
       "      <td>1.000000</td>\n",
       "      <td>0.000000</td>\n",
       "      <td>0.000000</td>\n",
       "      <td>0.000000</td>\n",
       "      <td>0.000000</td>\n",
       "      <td>7.280000</td>\n",
       "      <td>0.000000</td>\n",
       "    </tr>\n",
       "    <tr>\n",
       "      <th>25%</th>\n",
       "      <td>494.000000</td>\n",
       "      <td>2.000000</td>\n",
       "      <td>1.000000</td>\n",
       "      <td>0.000000</td>\n",
       "      <td>5.600000</td>\n",
       "      <td>95.000000</td>\n",
       "      <td>3.220000</td>\n",
       "      <td>69.660000</td>\n",
       "      <td>1.000000</td>\n",
       "    </tr>\n",
       "    <tr>\n",
       "      <th>50%</th>\n",
       "      <td>932.000000</td>\n",
       "      <td>4.000000</td>\n",
       "      <td>2.000000</td>\n",
       "      <td>0.000000</td>\n",
       "      <td>6.470000</td>\n",
       "      <td>113.000000</td>\n",
       "      <td>3.850000</td>\n",
       "      <td>75.760000</td>\n",
       "      <td>1.500000</td>\n",
       "    </tr>\n",
       "    <tr>\n",
       "      <th>75%</th>\n",
       "      <td>1770.000000</td>\n",
       "      <td>5.000000</td>\n",
       "      <td>3.000000</td>\n",
       "      <td>1.000000</td>\n",
       "      <td>7.220000</td>\n",
       "      <td>140.000000</td>\n",
       "      <td>4.260000</td>\n",
       "      <td>82.260000</td>\n",
       "      <td>2.500000</td>\n",
       "    </tr>\n",
       "    <tr>\n",
       "      <th>max</th>\n",
       "      <td>28064.000000</td>\n",
       "      <td>15.000000</td>\n",
       "      <td>6.000000</td>\n",
       "      <td>3.000000</td>\n",
       "      <td>9.910000</td>\n",
       "      <td>1044.000000</td>\n",
       "      <td>5.000000</td>\n",
       "      <td>100.000000</td>\n",
       "      <td>7.500000</td>\n",
       "    </tr>\n",
       "  </tbody>\n",
       "</table>\n",
       "</div>"
      ],
      "text/plain": [
       "       Property_Area  Number_of_Windows  Number_of_Doors  \\\n",
       "count   39499.000000       37845.000000     39499.000000   \n",
       "mean     1391.715638           3.923768         2.331375   \n",
       "std      1953.287544           2.690992         1.179964   \n",
       "min       100.000000           0.000000         1.000000   \n",
       "25%       494.000000           2.000000         1.000000   \n",
       "50%       932.000000           4.000000         2.000000   \n",
       "75%      1770.000000           5.000000         3.000000   \n",
       "max     28064.000000          15.000000         6.000000   \n",
       "\n",
       "       Frequency_of_Powercuts  Traffic_Density_Score  Air_Quality_Index  \\\n",
       "count            38116.000000           39499.000000       39499.000000   \n",
       "mean                 0.484678               6.354772         121.352566   \n",
       "std                  0.752207               1.219681          62.384669   \n",
       "min                  0.000000               0.000000           0.000000   \n",
       "25%                  0.000000               5.600000          95.000000   \n",
       "50%                  0.000000               6.470000         113.000000   \n",
       "75%                  1.000000               7.220000         140.000000   \n",
       "max                  3.000000               9.910000        1044.000000   \n",
       "\n",
       "       Neighborhood_Review  Habitability_score           w/d  \n",
       "count         39499.000000        39499.000000  37845.000000  \n",
       "mean              3.735945           73.482297      1.982409  \n",
       "std               0.796843           14.118753      1.433053  \n",
       "min               0.000000            7.280000      0.000000  \n",
       "25%               3.220000           69.660000      1.000000  \n",
       "50%               3.850000           75.760000      1.500000  \n",
       "75%               4.260000           82.260000      2.500000  \n",
       "max               5.000000          100.000000      7.500000  "
      ]
     },
     "execution_count": 5,
     "metadata": {},
     "output_type": "execute_result"
    }
   ],
   "source": [
    "house_data.describe()"
   ]
  },
  {
   "cell_type": "code",
   "execution_count": 6,
   "id": "c40682ae",
   "metadata": {},
   "outputs": [
    {
     "data": {
      "text/html": [
       "<div>\n",
       "<style scoped>\n",
       "    .dataframe tbody tr th:only-of-type {\n",
       "        vertical-align: middle;\n",
       "    }\n",
       "\n",
       "    .dataframe tbody tr th {\n",
       "        vertical-align: top;\n",
       "    }\n",
       "\n",
       "    .dataframe thead th {\n",
       "        text-align: right;\n",
       "    }\n",
       "</style>\n",
       "<table border=\"1\" class=\"dataframe\">\n",
       "  <thead>\n",
       "    <tr style=\"text-align: right;\">\n",
       "      <th></th>\n",
       "      <th>Property_Area</th>\n",
       "      <th>Number_of_Windows</th>\n",
       "      <th>Number_of_Doors</th>\n",
       "      <th>Frequency_of_Powercuts</th>\n",
       "      <th>Traffic_Density_Score</th>\n",
       "      <th>Air_Quality_Index</th>\n",
       "      <th>Neighborhood_Review</th>\n",
       "      <th>Habitability_score</th>\n",
       "      <th>w/d</th>\n",
       "    </tr>\n",
       "  </thead>\n",
       "  <tbody>\n",
       "    <tr>\n",
       "      <th>count</th>\n",
       "      <td>14596.000000</td>\n",
       "      <td>13965.000000</td>\n",
       "      <td>14596.000000</td>\n",
       "      <td>14086.000000</td>\n",
       "      <td>14596.000000</td>\n",
       "      <td>14596.000000</td>\n",
       "      <td>14596.000000</td>\n",
       "      <td>14596.000000</td>\n",
       "      <td>13965.000000</td>\n",
       "    </tr>\n",
       "    <tr>\n",
       "      <th>mean</th>\n",
       "      <td>744.753152</td>\n",
       "      <td>2.503473</td>\n",
       "      <td>1.996026</td>\n",
       "      <td>0.487789</td>\n",
       "      <td>6.354620</td>\n",
       "      <td>121.510071</td>\n",
       "      <td>3.726017</td>\n",
       "      <td>71.729413</td>\n",
       "      <td>1.527712</td>\n",
       "    </tr>\n",
       "    <tr>\n",
       "      <th>std</th>\n",
       "      <td>1756.012011</td>\n",
       "      <td>1.120148</td>\n",
       "      <td>0.819920</td>\n",
       "      <td>0.750879</td>\n",
       "      <td>1.210144</td>\n",
       "      <td>62.292796</td>\n",
       "      <td>0.796425</td>\n",
       "      <td>15.146432</td>\n",
       "      <td>1.027524</td>\n",
       "    </tr>\n",
       "    <tr>\n",
       "      <th>min</th>\n",
       "      <td>100.000000</td>\n",
       "      <td>1.000000</td>\n",
       "      <td>1.000000</td>\n",
       "      <td>0.000000</td>\n",
       "      <td>0.180000</td>\n",
       "      <td>0.000000</td>\n",
       "      <td>0.000000</td>\n",
       "      <td>7.280000</td>\n",
       "      <td>0.333333</td>\n",
       "    </tr>\n",
       "    <tr>\n",
       "      <th>25%</th>\n",
       "      <td>324.000000</td>\n",
       "      <td>1.000000</td>\n",
       "      <td>1.000000</td>\n",
       "      <td>0.000000</td>\n",
       "      <td>5.590000</td>\n",
       "      <td>95.000000</td>\n",
       "      <td>3.220000</td>\n",
       "      <td>67.840000</td>\n",
       "      <td>1.000000</td>\n",
       "    </tr>\n",
       "    <tr>\n",
       "      <th>50%</th>\n",
       "      <td>554.000000</td>\n",
       "      <td>3.000000</td>\n",
       "      <td>2.000000</td>\n",
       "      <td>0.000000</td>\n",
       "      <td>6.460000</td>\n",
       "      <td>113.000000</td>\n",
       "      <td>3.850000</td>\n",
       "      <td>74.715000</td>\n",
       "      <td>1.333333</td>\n",
       "    </tr>\n",
       "    <tr>\n",
       "      <th>75%</th>\n",
       "      <td>783.000000</td>\n",
       "      <td>4.000000</td>\n",
       "      <td>3.000000</td>\n",
       "      <td>1.000000</td>\n",
       "      <td>7.210000</td>\n",
       "      <td>141.000000</td>\n",
       "      <td>4.190000</td>\n",
       "      <td>81.280000</td>\n",
       "      <td>2.000000</td>\n",
       "    </tr>\n",
       "    <tr>\n",
       "      <th>max</th>\n",
       "      <td>28064.000000</td>\n",
       "      <td>4.000000</td>\n",
       "      <td>3.000000</td>\n",
       "      <td>3.000000</td>\n",
       "      <td>9.750000</td>\n",
       "      <td>1044.000000</td>\n",
       "      <td>5.000000</td>\n",
       "      <td>98.180000</td>\n",
       "      <td>4.000000</td>\n",
       "    </tr>\n",
       "  </tbody>\n",
       "</table>\n",
       "</div>"
      ],
      "text/plain": [
       "       Property_Area  Number_of_Windows  Number_of_Doors  \\\n",
       "count   14596.000000       13965.000000     14596.000000   \n",
       "mean      744.753152           2.503473         1.996026   \n",
       "std      1756.012011           1.120148         0.819920   \n",
       "min       100.000000           1.000000         1.000000   \n",
       "25%       324.000000           1.000000         1.000000   \n",
       "50%       554.000000           3.000000         2.000000   \n",
       "75%       783.000000           4.000000         3.000000   \n",
       "max     28064.000000           4.000000         3.000000   \n",
       "\n",
       "       Frequency_of_Powercuts  Traffic_Density_Score  Air_Quality_Index  \\\n",
       "count            14086.000000           14596.000000       14596.000000   \n",
       "mean                 0.487789               6.354620         121.510071   \n",
       "std                  0.750879               1.210144          62.292796   \n",
       "min                  0.000000               0.180000           0.000000   \n",
       "25%                  0.000000               5.590000          95.000000   \n",
       "50%                  0.000000               6.460000         113.000000   \n",
       "75%                  1.000000               7.210000         141.000000   \n",
       "max                  3.000000               9.750000        1044.000000   \n",
       "\n",
       "       Neighborhood_Review  Habitability_score           w/d  \n",
       "count         14596.000000        14596.000000  13965.000000  \n",
       "mean              3.726017           71.729413      1.527712  \n",
       "std               0.796425           15.146432      1.027524  \n",
       "min               0.000000            7.280000      0.333333  \n",
       "25%               3.220000           67.840000      1.000000  \n",
       "50%               3.850000           74.715000      1.333333  \n",
       "75%               4.190000           81.280000      2.000000  \n",
       "max               5.000000           98.180000      4.000000  "
      ]
     },
     "execution_count": 6,
     "metadata": {},
     "output_type": "execute_result"
    }
   ],
   "source": [
    "house_data[house_data['Property_Type'] == 'Apartment'].describe()"
   ]
  },
  {
   "cell_type": "code",
   "execution_count": 7,
   "id": "1ca5cde6",
   "metadata": {},
   "outputs": [
    {
     "data": {
      "text/html": [
       "<div>\n",
       "<style scoped>\n",
       "    .dataframe tbody tr th:only-of-type {\n",
       "        vertical-align: middle;\n",
       "    }\n",
       "\n",
       "    .dataframe tbody tr th {\n",
       "        vertical-align: top;\n",
       "    }\n",
       "\n",
       "    .dataframe thead th {\n",
       "        text-align: right;\n",
       "    }\n",
       "</style>\n",
       "<table border=\"1\" class=\"dataframe\">\n",
       "  <thead>\n",
       "    <tr style=\"text-align: right;\">\n",
       "      <th></th>\n",
       "      <th>Property_Area</th>\n",
       "      <th>Number_of_Windows</th>\n",
       "      <th>Number_of_Doors</th>\n",
       "      <th>Frequency_of_Powercuts</th>\n",
       "      <th>Traffic_Density_Score</th>\n",
       "      <th>Air_Quality_Index</th>\n",
       "      <th>Neighborhood_Review</th>\n",
       "    </tr>\n",
       "  </thead>\n",
       "  <tbody>\n",
       "    <tr>\n",
       "      <th>count</th>\n",
       "      <td>10500.000000</td>\n",
       "      <td>10055.000000</td>\n",
       "      <td>10500.000000</td>\n",
       "      <td>10134.000000</td>\n",
       "      <td>10500.000000</td>\n",
       "      <td>10500.000000</td>\n",
       "      <td>10500.000000</td>\n",
       "    </tr>\n",
       "    <tr>\n",
       "      <th>mean</th>\n",
       "      <td>1364.333333</td>\n",
       "      <td>3.897563</td>\n",
       "      <td>2.326571</td>\n",
       "      <td>0.484409</td>\n",
       "      <td>6.361525</td>\n",
       "      <td>120.532571</td>\n",
       "      <td>3.734125</td>\n",
       "    </tr>\n",
       "    <tr>\n",
       "      <th>std</th>\n",
       "      <td>1813.702032</td>\n",
       "      <td>2.690162</td>\n",
       "      <td>1.175324</td>\n",
       "      <td>0.749686</td>\n",
       "      <td>1.216237</td>\n",
       "      <td>55.635990</td>\n",
       "      <td>0.793325</td>\n",
       "    </tr>\n",
       "    <tr>\n",
       "      <th>min</th>\n",
       "      <td>100.000000</td>\n",
       "      <td>0.000000</td>\n",
       "      <td>1.000000</td>\n",
       "      <td>0.000000</td>\n",
       "      <td>0.020000</td>\n",
       "      <td>0.000000</td>\n",
       "      <td>0.020000</td>\n",
       "    </tr>\n",
       "    <tr>\n",
       "      <th>25%</th>\n",
       "      <td>505.000000</td>\n",
       "      <td>2.000000</td>\n",
       "      <td>1.000000</td>\n",
       "      <td>0.000000</td>\n",
       "      <td>5.620000</td>\n",
       "      <td>95.000000</td>\n",
       "      <td>3.230000</td>\n",
       "    </tr>\n",
       "    <tr>\n",
       "      <th>50%</th>\n",
       "      <td>935.500000</td>\n",
       "      <td>3.000000</td>\n",
       "      <td>2.000000</td>\n",
       "      <td>0.000000</td>\n",
       "      <td>6.470000</td>\n",
       "      <td>113.000000</td>\n",
       "      <td>3.850000</td>\n",
       "    </tr>\n",
       "    <tr>\n",
       "      <th>75%</th>\n",
       "      <td>1758.000000</td>\n",
       "      <td>5.000000</td>\n",
       "      <td>3.000000</td>\n",
       "      <td>1.000000</td>\n",
       "      <td>7.220000</td>\n",
       "      <td>140.000000</td>\n",
       "      <td>4.220000</td>\n",
       "    </tr>\n",
       "    <tr>\n",
       "      <th>max</th>\n",
       "      <td>27477.000000</td>\n",
       "      <td>15.000000</td>\n",
       "      <td>6.000000</td>\n",
       "      <td>3.000000</td>\n",
       "      <td>9.430000</td>\n",
       "      <td>1031.000000</td>\n",
       "      <td>5.000000</td>\n",
       "    </tr>\n",
       "  </tbody>\n",
       "</table>\n",
       "</div>"
      ],
      "text/plain": [
       "       Property_Area  Number_of_Windows  Number_of_Doors  \\\n",
       "count   10500.000000       10055.000000     10500.000000   \n",
       "mean     1364.333333           3.897563         2.326571   \n",
       "std      1813.702032           2.690162         1.175324   \n",
       "min       100.000000           0.000000         1.000000   \n",
       "25%       505.000000           2.000000         1.000000   \n",
       "50%       935.500000           3.000000         2.000000   \n",
       "75%      1758.000000           5.000000         3.000000   \n",
       "max     27477.000000          15.000000         6.000000   \n",
       "\n",
       "       Frequency_of_Powercuts  Traffic_Density_Score  Air_Quality_Index  \\\n",
       "count            10134.000000           10500.000000       10500.000000   \n",
       "mean                 0.484409               6.361525         120.532571   \n",
       "std                  0.749686               1.216237          55.635990   \n",
       "min                  0.000000               0.020000           0.000000   \n",
       "25%                  0.000000               5.620000          95.000000   \n",
       "50%                  0.000000               6.470000         113.000000   \n",
       "75%                  1.000000               7.220000         140.000000   \n",
       "max                  3.000000               9.430000        1031.000000   \n",
       "\n",
       "       Neighborhood_Review  \n",
       "count         10500.000000  \n",
       "mean              3.734125  \n",
       "std               0.793325  \n",
       "min               0.020000  \n",
       "25%               3.230000  \n",
       "50%               3.850000  \n",
       "75%               4.220000  \n",
       "max               5.000000  "
      ]
     },
     "execution_count": 7,
     "metadata": {},
     "output_type": "execute_result"
    }
   ],
   "source": [
    "house_test.describe()"
   ]
  },
  {
   "cell_type": "code",
   "execution_count": 8,
   "id": "5d8e221d",
   "metadata": {},
   "outputs": [
    {
     "data": {
      "text/plain": [
       "Property_ID                  0\n",
       "Property_Type                0\n",
       "Property_Area                0\n",
       "Number_of_Windows         1654\n",
       "Number_of_Doors              0\n",
       "Furnishing                1042\n",
       "Frequency_of_Powercuts    1383\n",
       "Power_Backup                 0\n",
       "Water_Supply                 0\n",
       "Traffic_Density_Score        0\n",
       "Crime_Rate                 787\n",
       "Dust_and_Noise            1219\n",
       "Air_Quality_Index            0\n",
       "Neighborhood_Review          0\n",
       "Habitability_score           0\n",
       "w/d                       1654\n",
       "dtype: int64"
      ]
     },
     "execution_count": 8,
     "metadata": {},
     "output_type": "execute_result"
    }
   ],
   "source": [
    "house_data.isna().sum()"
   ]
  },
  {
   "cell_type": "code",
   "execution_count": 9,
   "id": "25d66c2f",
   "metadata": {},
   "outputs": [
    {
     "data": {
      "text/plain": [
       "Property_ID                 0\n",
       "Property_Type               0\n",
       "Property_Area               0\n",
       "Number_of_Windows         445\n",
       "Number_of_Doors             0\n",
       "Furnishing                257\n",
       "Frequency_of_Powercuts    366\n",
       "Power_Backup                0\n",
       "Water_Supply                0\n",
       "Traffic_Density_Score       0\n",
       "Crime_Rate                212\n",
       "Dust_and_Noise            330\n",
       "Air_Quality_Index           0\n",
       "Neighborhood_Review         0\n",
       "dtype: int64"
      ]
     },
     "execution_count": 9,
     "metadata": {},
     "output_type": "execute_result"
    }
   ],
   "source": [
    "house_test.isna().sum()"
   ]
  },
  {
   "cell_type": "code",
   "execution_count": null,
   "id": "39cb09ee",
   "metadata": {},
   "outputs": [],
   "source": []
  },
  {
   "cell_type": "code",
   "execution_count": 10,
   "id": "e82dc2ad",
   "metadata": {},
   "outputs": [],
   "source": [
    "del house_data['Crime_Rate']\n",
    "del house_test['Crime_Rate']"
   ]
  },
  {
   "cell_type": "code",
   "execution_count": 11,
   "id": "530ad712",
   "metadata": {},
   "outputs": [],
   "source": [
    "house_data = house_data.dropna()"
   ]
  },
  {
   "cell_type": "code",
   "execution_count": 12,
   "id": "67ca1cd5",
   "metadata": {},
   "outputs": [
    {
     "data": {
      "text/plain": [
       "Property_ID               0\n",
       "Property_Type             0\n",
       "Property_Area             0\n",
       "Number_of_Windows         0\n",
       "Number_of_Doors           0\n",
       "Furnishing                0\n",
       "Frequency_of_Powercuts    0\n",
       "Power_Backup              0\n",
       "Water_Supply              0\n",
       "Traffic_Density_Score     0\n",
       "Dust_and_Noise            0\n",
       "Air_Quality_Index         0\n",
       "Neighborhood_Review       0\n",
       "Habitability_score        0\n",
       "w/d                       0\n",
       "dtype: int64"
      ]
     },
     "execution_count": 12,
     "metadata": {},
     "output_type": "execute_result"
    }
   ],
   "source": [
    "house_data.isna().sum()"
   ]
  },
  {
   "cell_type": "code",
   "execution_count": 13,
   "id": "0f5fbea3",
   "metadata": {},
   "outputs": [],
   "source": [
    "house_data['Air_Quality_Index'].mask(house_data['Air_Quality_Index'] > 500, 113.000000, inplace=True)"
   ]
  },
  {
   "cell_type": "code",
   "execution_count": 14,
   "id": "be4fdeaa",
   "metadata": {},
   "outputs": [],
   "source": [
    "house_test['Air_Quality_Index'].mask(house_test['Air_Quality_Index'] > 500, 113.000000, inplace=True)"
   ]
  },
  {
   "cell_type": "code",
   "execution_count": 15,
   "id": "7dcad453",
   "metadata": {},
   "outputs": [],
   "source": [
    "house_data['Property_Type'] = house_data['Property_Type'].replace('#R%$G&867', 'Apartment')\n",
    "house_test['Property_Type'] = house_test['Property_Type'].replace('#R%$G&867', 'Apartment')"
   ]
  },
  {
   "cell_type": "code",
   "execution_count": 16,
   "id": "78bd696e",
   "metadata": {},
   "outputs": [
    {
     "data": {
      "text/html": [
       "<div>\n",
       "<style scoped>\n",
       "    .dataframe tbody tr th:only-of-type {\n",
       "        vertical-align: middle;\n",
       "    }\n",
       "\n",
       "    .dataframe tbody tr th {\n",
       "        vertical-align: top;\n",
       "    }\n",
       "\n",
       "    .dataframe thead th {\n",
       "        text-align: right;\n",
       "    }\n",
       "</style>\n",
       "<table border=\"1\" class=\"dataframe\">\n",
       "  <thead>\n",
       "    <tr style=\"text-align: right;\">\n",
       "      <th></th>\n",
       "      <th>count</th>\n",
       "      <th>mean</th>\n",
       "      <th>std</th>\n",
       "      <th>min</th>\n",
       "      <th>25%</th>\n",
       "      <th>50%</th>\n",
       "      <th>75%</th>\n",
       "      <th>max</th>\n",
       "    </tr>\n",
       "    <tr>\n",
       "      <th>Property_Type</th>\n",
       "      <th></th>\n",
       "      <th></th>\n",
       "      <th></th>\n",
       "      <th></th>\n",
       "      <th></th>\n",
       "      <th></th>\n",
       "      <th></th>\n",
       "      <th></th>\n",
       "    </tr>\n",
       "  </thead>\n",
       "  <tbody>\n",
       "    <tr>\n",
       "      <th>Apartment</th>\n",
       "      <td>3823.0</td>\n",
       "      <td>2.524457</td>\n",
       "      <td>1.216004</td>\n",
       "      <td>0.0</td>\n",
       "      <td>1.0</td>\n",
       "      <td>2.0</td>\n",
       "      <td>4.0</td>\n",
       "      <td>14.0</td>\n",
       "    </tr>\n",
       "    <tr>\n",
       "      <th>Bungalow</th>\n",
       "      <td>1061.0</td>\n",
       "      <td>9.403393</td>\n",
       "      <td>3.465102</td>\n",
       "      <td>4.0</td>\n",
       "      <td>6.0</td>\n",
       "      <td>9.0</td>\n",
       "      <td>12.0</td>\n",
       "      <td>15.0</td>\n",
       "    </tr>\n",
       "    <tr>\n",
       "      <th>Container Home</th>\n",
       "      <td>746.0</td>\n",
       "      <td>1.583110</td>\n",
       "      <td>1.098716</td>\n",
       "      <td>0.0</td>\n",
       "      <td>1.0</td>\n",
       "      <td>2.0</td>\n",
       "      <td>3.0</td>\n",
       "      <td>3.0</td>\n",
       "    </tr>\n",
       "    <tr>\n",
       "      <th>Duplex</th>\n",
       "      <td>1454.0</td>\n",
       "      <td>5.577029</td>\n",
       "      <td>1.112673</td>\n",
       "      <td>4.0</td>\n",
       "      <td>5.0</td>\n",
       "      <td>6.0</td>\n",
       "      <td>7.0</td>\n",
       "      <td>7.0</td>\n",
       "    </tr>\n",
       "    <tr>\n",
       "      <th>Single-family home</th>\n",
       "      <td>2971.0</td>\n",
       "      <td>3.457422</td>\n",
       "      <td>1.106967</td>\n",
       "      <td>2.0</td>\n",
       "      <td>2.0</td>\n",
       "      <td>3.0</td>\n",
       "      <td>4.0</td>\n",
       "      <td>5.0</td>\n",
       "    </tr>\n",
       "  </tbody>\n",
       "</table>\n",
       "</div>"
      ],
      "text/plain": [
       "                     count      mean       std  min  25%  50%   75%   max\n",
       "Property_Type                                                            \n",
       "Apartment           3823.0  2.524457  1.216004  0.0  1.0  2.0   4.0  14.0\n",
       "Bungalow            1061.0  9.403393  3.465102  4.0  6.0  9.0  12.0  15.0\n",
       "Container Home       746.0  1.583110  1.098716  0.0  1.0  2.0   3.0   3.0\n",
       "Duplex              1454.0  5.577029  1.112673  4.0  5.0  6.0   7.0   7.0\n",
       "Single-family home  2971.0  3.457422  1.106967  2.0  2.0  3.0   4.0   5.0"
      ]
     },
     "execution_count": 16,
     "metadata": {},
     "output_type": "execute_result"
    }
   ],
   "source": [
    "house_test.groupby(['Property_Type'])['Number_of_Windows'].describe()"
   ]
  },
  {
   "cell_type": "code",
   "execution_count": 17,
   "id": "807650da",
   "metadata": {},
   "outputs": [],
   "source": [
    "releIndex = house_test[(house_test['Number_of_Windows'].isna()) & (house_test['Property_Type'] == 'Apartment')].index\n",
    "house_test.loc[releIndex,['Number_of_Windows']] = 2.0"
   ]
  },
  {
   "cell_type": "code",
   "execution_count": 18,
   "id": "ef4d8075",
   "metadata": {},
   "outputs": [],
   "source": [
    "releIndex = house_test[(house_test['Number_of_Windows'].isna()) & (house_test['Property_Type'] == 'Bungalow')].index\n",
    "house_test.loc[releIndex,['Number_of_Windows']] = 9.0"
   ]
  },
  {
   "cell_type": "code",
   "execution_count": 19,
   "id": "3fbe813c",
   "metadata": {},
   "outputs": [],
   "source": [
    "releIndex = house_test[(house_test['Number_of_Windows'].isna()) & (house_test['Property_Type'] == 'Container Home')].index\n",
    "house_test.loc[releIndex,['Number_of_Windows']] = 2.0"
   ]
  },
  {
   "cell_type": "code",
   "execution_count": 20,
   "id": "119a9b41",
   "metadata": {},
   "outputs": [],
   "source": [
    "releIndex = house_test[(house_test['Number_of_Windows'].isna()) & (house_test['Property_Type'] == 'Duplex')].index\n",
    "house_test.loc[releIndex,['Number_of_Windows']] = 6.0"
   ]
  },
  {
   "cell_type": "code",
   "execution_count": 21,
   "id": "2f04888f",
   "metadata": {},
   "outputs": [],
   "source": [
    "releIndex = house_test[(house_test['Number_of_Windows'].isna()) & (house_test['Property_Type'] == 'Single-family home')].index\n",
    "house_test.loc[releIndex,['Number_of_Windows']] = 3.0"
   ]
  },
  {
   "cell_type": "code",
   "execution_count": 22,
   "id": "b96c01fc",
   "metadata": {},
   "outputs": [
    {
     "data": {
      "text/html": [
       "<div>\n",
       "<style scoped>\n",
       "    .dataframe tbody tr th:only-of-type {\n",
       "        vertical-align: middle;\n",
       "    }\n",
       "\n",
       "    .dataframe tbody tr th {\n",
       "        vertical-align: top;\n",
       "    }\n",
       "\n",
       "    .dataframe thead th {\n",
       "        text-align: right;\n",
       "    }\n",
       "</style>\n",
       "<table border=\"1\" class=\"dataframe\">\n",
       "  <thead>\n",
       "    <tr style=\"text-align: right;\">\n",
       "      <th></th>\n",
       "      <th>count</th>\n",
       "      <th>mean</th>\n",
       "      <th>std</th>\n",
       "      <th>min</th>\n",
       "      <th>25%</th>\n",
       "      <th>50%</th>\n",
       "      <th>75%</th>\n",
       "      <th>max</th>\n",
       "    </tr>\n",
       "    <tr>\n",
       "      <th>Property_Type</th>\n",
       "      <th></th>\n",
       "      <th></th>\n",
       "      <th></th>\n",
       "      <th></th>\n",
       "      <th></th>\n",
       "      <th></th>\n",
       "      <th></th>\n",
       "      <th></th>\n",
       "    </tr>\n",
       "  </thead>\n",
       "  <tbody>\n",
       "    <tr>\n",
       "      <th>Apartment</th>\n",
       "      <td>13176.0</td>\n",
       "      <td>2.543944</td>\n",
       "      <td>1.220898</td>\n",
       "      <td>0.0</td>\n",
       "      <td>2.0</td>\n",
       "      <td>3.0</td>\n",
       "      <td>4.0</td>\n",
       "      <td>15.0</td>\n",
       "    </tr>\n",
       "    <tr>\n",
       "      <th>Bungalow</th>\n",
       "      <td>3713.0</td>\n",
       "      <td>9.368435</td>\n",
       "      <td>3.439517</td>\n",
       "      <td>4.0</td>\n",
       "      <td>6.0</td>\n",
       "      <td>9.0</td>\n",
       "      <td>12.0</td>\n",
       "      <td>15.0</td>\n",
       "    </tr>\n",
       "    <tr>\n",
       "      <th>Container Home</th>\n",
       "      <td>2509.0</td>\n",
       "      <td>1.524512</td>\n",
       "      <td>1.130931</td>\n",
       "      <td>0.0</td>\n",
       "      <td>1.0</td>\n",
       "      <td>2.0</td>\n",
       "      <td>3.0</td>\n",
       "      <td>3.0</td>\n",
       "    </tr>\n",
       "    <tr>\n",
       "      <th>Duplex</th>\n",
       "      <td>5044.0</td>\n",
       "      <td>5.487906</td>\n",
       "      <td>1.115060</td>\n",
       "      <td>4.0</td>\n",
       "      <td>4.0</td>\n",
       "      <td>5.0</td>\n",
       "      <td>6.0</td>\n",
       "      <td>7.0</td>\n",
       "    </tr>\n",
       "    <tr>\n",
       "      <th>Single-family home</th>\n",
       "      <td>10023.0</td>\n",
       "      <td>3.529682</td>\n",
       "      <td>1.119970</td>\n",
       "      <td>2.0</td>\n",
       "      <td>3.0</td>\n",
       "      <td>4.0</td>\n",
       "      <td>5.0</td>\n",
       "      <td>5.0</td>\n",
       "    </tr>\n",
       "  </tbody>\n",
       "</table>\n",
       "</div>"
      ],
      "text/plain": [
       "                      count      mean       std  min  25%  50%   75%   max\n",
       "Property_Type                                                             \n",
       "Apartment           13176.0  2.543944  1.220898  0.0  2.0  3.0   4.0  15.0\n",
       "Bungalow             3713.0  9.368435  3.439517  4.0  6.0  9.0  12.0  15.0\n",
       "Container Home       2509.0  1.524512  1.130931  0.0  1.0  2.0   3.0   3.0\n",
       "Duplex               5044.0  5.487906  1.115060  4.0  4.0  5.0   6.0   7.0\n",
       "Single-family home  10023.0  3.529682  1.119970  2.0  3.0  4.0   5.0   5.0"
      ]
     },
     "execution_count": 22,
     "metadata": {},
     "output_type": "execute_result"
    }
   ],
   "source": [
    "house_data.groupby(['Property_Type'])['Number_of_Windows'].describe()"
   ]
  },
  {
   "cell_type": "code",
   "execution_count": 23,
   "id": "054c1f0f",
   "metadata": {},
   "outputs": [],
   "source": [
    "releIndex = house_data[(house_data['Number_of_Windows'].isna()) & (house_data['Property_Type'] == 'Apartment')].index\n",
    "house_data.loc[releIndex,['Number_of_Windows']] = 3.0\n",
    "\n",
    "releIndex = house_data[(house_data['Number_of_Windows'].isna()) & (house_data['Property_Type'] == 'Bungalow')].index\n",
    "house_data.loc[releIndex,['Number_of_Windows']] = 9.0\n",
    "\n",
    "releIndex = house_data[(house_data['Number_of_Windows'].isna()) & (house_data['Property_Type'] == 'Container Home')].index\n",
    "house_data.loc[releIndex,['Number_of_Windows']] = 2.0\n",
    "\n",
    "releIndex = house_data[(house_data['Number_of_Windows'].isna()) & (house_data['Property_Type'] == 'Duplex')].index\n",
    "house_data.loc[releIndex,['Number_of_Windows']] = 5.0\n",
    "\n",
    "releIndex = house_data[(house_data['Number_of_Windows'].isna()) & (house_data['Property_Type'] == 'Single-family home')].index\n",
    "house_data.loc[releIndex,['Number_of_Windows']] = 4.0"
   ]
  },
  {
   "cell_type": "code",
   "execution_count": 24,
   "id": "bec4d1a5",
   "metadata": {},
   "outputs": [],
   "source": [
    "house_test['Furnishing'] = house_test['Furnishing'].fillna('Semi_Furnished')\n",
    "house_data['Furnishing'] = house_data['Furnishing'].fillna('Semi_Furnished')"
   ]
  },
  {
   "cell_type": "code",
   "execution_count": 25,
   "id": "c25e00e9",
   "metadata": {},
   "outputs": [],
   "source": [
    "house_test['Frequency_of_Powercuts'] = house_test['Frequency_of_Powercuts'].fillna(0.000000)\n",
    "house_data['Frequency_of_Powercuts'] = house_data['Frequency_of_Powercuts'].fillna(0.000000)"
   ]
  },
  {
   "cell_type": "code",
   "execution_count": 26,
   "id": "1d817df1",
   "metadata": {},
   "outputs": [],
   "source": [
    "# house_test.groupby(['Crime_Rate'])['Neighborhood_Review'].describe()"
   ]
  },
  {
   "cell_type": "code",
   "execution_count": 27,
   "id": "b0ac9c46",
   "metadata": {},
   "outputs": [],
   "source": [
    "# releIndex = house_test[(house_test['Crime_Rate'].isna()) & (house_test['Neighborhood_Review'] >= 3.885)].index\n",
    "# house_test.loc[releIndex,['Crime_Rate']] = 'Well below average'"
   ]
  },
  {
   "cell_type": "code",
   "execution_count": 28,
   "id": "78fcd53b",
   "metadata": {},
   "outputs": [],
   "source": [
    "# releIndex = house_test[(house_test['Crime_Rate'].isna()) & (house_test['Neighborhood_Review'] < 3.885) & (house_test['Neighborhood_Review'] >= 3.26)].index\n",
    "# house_test.loc[releIndex, ['Crime_Rate']] = 'Slightly below average'"
   ]
  },
  {
   "cell_type": "code",
   "execution_count": 29,
   "id": "93618f6c",
   "metadata": {},
   "outputs": [],
   "source": [
    "# releIndex = house_test[(house_test['Crime_Rate'].isna()) & (house_test['Neighborhood_Review'] < 3.26) & (house_test['Neighborhood_Review'] >= 2.61)].index\n",
    "# house_test.loc[releIndex, ['Crime_Rate']] = 'Slightly above average'"
   ]
  },
  {
   "cell_type": "code",
   "execution_count": 30,
   "id": "0a10565e",
   "metadata": {},
   "outputs": [],
   "source": [
    "# releIndex = house_test[(house_test['Crime_Rate'].isna()) & (house_test['Neighborhood_Review'] < 2.61)].index\n",
    "# house_test.loc[releIndex, ['Crime_Rate']] = 'Well above average'"
   ]
  },
  {
   "cell_type": "code",
   "execution_count": 31,
   "id": "c7fb74db",
   "metadata": {},
   "outputs": [],
   "source": [
    "# house_data.groupby(['Crime_Rate'])['Neighborhood_Review'].describe()"
   ]
  },
  {
   "cell_type": "code",
   "execution_count": 32,
   "id": "1dbfeab8",
   "metadata": {},
   "outputs": [],
   "source": [
    "# releIndex = house_data[(house_data['Crime_Rate'].isna()) & (house_data['Neighborhood_Review'] >= 3.885)].index\n",
    "# house_data.loc[releIndex,['Crime_Rate']] = 'Well below average'\n",
    "\n",
    "# releIndex = house_data[(house_data['Crime_Rate'].isna()) & (house_data['Neighborhood_Review'] < 3.885) & (house_data['Neighborhood_Review'] >= 3.26)].index\n",
    "# house_data.loc[releIndex, ['Crime_Rate']] = 'Slightly below average'\n",
    "\n",
    "# releIndex = house_data[(house_data['Crime_Rate'].isna()) & (house_data['Neighborhood_Review'] < 3.26) & (house_data['Neighborhood_Review'] >= 2.61)].index\n",
    "# house_data.loc[releIndex, ['Crime_Rate']] = 'Slightly above average'\n",
    "\n",
    "# releIndex = house_data[(house_data['Crime_Rate'].isna()) & (house_data['Neighborhood_Review'] < 2.61)].index\n",
    "# house_data.loc[releIndex, ['Crime_Rate']] = 'Well above average'"
   ]
  },
  {
   "cell_type": "code",
   "execution_count": 33,
   "id": "e5501648",
   "metadata": {},
   "outputs": [],
   "source": [
    "house_test['Dust_and_Noise'] = house_test['Dust_and_Noise'].fillna('Medium')\n",
    "house_data['Dust_and_Noise'] = house_data['Dust_and_Noise'].fillna('Medium')"
   ]
  },
  {
   "cell_type": "code",
   "execution_count": 34,
   "id": "1b233d99",
   "metadata": {},
   "outputs": [
    {
     "data": {
      "text/plain": [
       "Property_ID               0\n",
       "Property_Type             0\n",
       "Property_Area             0\n",
       "Number_of_Windows         0\n",
       "Number_of_Doors           0\n",
       "Furnishing                0\n",
       "Frequency_of_Powercuts    0\n",
       "Power_Backup              0\n",
       "Water_Supply              0\n",
       "Traffic_Density_Score     0\n",
       "Dust_and_Noise            0\n",
       "Air_Quality_Index         0\n",
       "Neighborhood_Review       0\n",
       "dtype: int64"
      ]
     },
     "execution_count": 34,
     "metadata": {},
     "output_type": "execute_result"
    }
   ],
   "source": [
    "house_test.isna().sum()"
   ]
  },
  {
   "cell_type": "code",
   "execution_count": 35,
   "id": "fea15752",
   "metadata": {},
   "outputs": [
    {
     "data": {
      "text/plain": [
       "Property_ID               0\n",
       "Property_Type             0\n",
       "Property_Area             0\n",
       "Number_of_Windows         0\n",
       "Number_of_Doors           0\n",
       "Furnishing                0\n",
       "Frequency_of_Powercuts    0\n",
       "Power_Backup              0\n",
       "Water_Supply              0\n",
       "Traffic_Density_Score     0\n",
       "Dust_and_Noise            0\n",
       "Air_Quality_Index         0\n",
       "Neighborhood_Review       0\n",
       "Habitability_score        0\n",
       "w/d                       0\n",
       "dtype: int64"
      ]
     },
     "execution_count": 35,
     "metadata": {},
     "output_type": "execute_result"
    }
   ],
   "source": [
    "house_data.isna().sum()"
   ]
  },
  {
   "cell_type": "code",
   "execution_count": 36,
   "id": "fc435df0",
   "metadata": {},
   "outputs": [],
   "source": [
    "# house_data[house_data['Crime_Rate'].isna()]['Neighborhood_Review'].describe()"
   ]
  },
  {
   "cell_type": "markdown",
   "id": "b1181a99",
   "metadata": {},
   "source": [
    "# Encoding and deleting"
   ]
  },
  {
   "cell_type": "code",
   "execution_count": 37,
   "id": "c09f7b23",
   "metadata": {},
   "outputs": [
    {
     "data": {
      "text/plain": [
       "Index(['Property_ID', 'Property_Type', 'Property_Area', 'Number_of_Windows',\n",
       "       'Number_of_Doors', 'Furnishing', 'Frequency_of_Powercuts',\n",
       "       'Power_Backup', 'Water_Supply', 'Traffic_Density_Score',\n",
       "       'Dust_and_Noise', 'Air_Quality_Index', 'Neighborhood_Review',\n",
       "       'Habitability_score', 'w/d'],\n",
       "      dtype='object')"
      ]
     },
     "execution_count": 37,
     "metadata": {},
     "output_type": "execute_result"
    }
   ],
   "source": [
    "house_data.columns"
   ]
  },
  {
   "cell_type": "code",
   "execution_count": 38,
   "id": "5f9f6124",
   "metadata": {},
   "outputs": [
    {
     "data": {
      "text/plain": [
       "Index(['Property_ID', 'Property_Type', 'Property_Area', 'Number_of_Windows',\n",
       "       'Number_of_Doors', 'Furnishing', 'Frequency_of_Powercuts',\n",
       "       'Power_Backup', 'Water_Supply', 'Traffic_Density_Score',\n",
       "       'Dust_and_Noise', 'Air_Quality_Index', 'Neighborhood_Review'],\n",
       "      dtype='object')"
      ]
     },
     "execution_count": 38,
     "metadata": {},
     "output_type": "execute_result"
    }
   ],
   "source": [
    "house_test.columns"
   ]
  },
  {
   "cell_type": "code",
   "execution_count": 39,
   "id": "64e45521",
   "metadata": {},
   "outputs": [],
   "source": [
    "del house_data['Property_ID']"
   ]
  },
  {
   "cell_type": "code",
   "execution_count": 40,
   "id": "630343df",
   "metadata": {},
   "outputs": [
    {
     "data": {
      "text/plain": [
       "Index(['Property_Type', 'Property_Area', 'Number_of_Windows',\n",
       "       'Number_of_Doors', 'Furnishing', 'Frequency_of_Powercuts',\n",
       "       'Power_Backup', 'Water_Supply', 'Traffic_Density_Score',\n",
       "       'Dust_and_Noise', 'Air_Quality_Index', 'Neighborhood_Review',\n",
       "       'Habitability_score', 'w/d'],\n",
       "      dtype='object')"
      ]
     },
     "execution_count": 40,
     "metadata": {},
     "output_type": "execute_result"
    }
   ],
   "source": [
    "house_data.columns"
   ]
  },
  {
   "cell_type": "code",
   "execution_count": 41,
   "id": "8e10da19",
   "metadata": {},
   "outputs": [],
   "source": [
    "le = preprocessing.LabelEncoder()"
   ]
  },
  {
   "cell_type": "code",
   "execution_count": 42,
   "id": "55fc3025",
   "metadata": {},
   "outputs": [],
   "source": [
    "le.fit(house_data['Property_Type'])\n",
    "house_data['Property_Type']=le.transform(house_data['Property_Type'])\n",
    "house_test['Property_Type']=le.transform(house_test['Property_Type'])"
   ]
  },
  {
   "cell_type": "code",
   "execution_count": 43,
   "id": "79f2114b",
   "metadata": {},
   "outputs": [],
   "source": [
    "le.fit(house_data['Furnishing'])\n",
    "house_data['Furnishing']=le.transform(house_data['Furnishing'])\n",
    "house_test['Furnishing']=le.transform(house_test['Furnishing'])"
   ]
  },
  {
   "cell_type": "code",
   "execution_count": 44,
   "id": "06f52c9c",
   "metadata": {},
   "outputs": [],
   "source": [
    "le.fit(house_data['Power_Backup'])\n",
    "house_data['Power_Backup']=le.transform(house_data['Power_Backup'])\n",
    "house_test['Power_Backup']=le.transform(house_test['Power_Backup'])"
   ]
  },
  {
   "cell_type": "code",
   "execution_count": 45,
   "id": "7f3e5c43",
   "metadata": {},
   "outputs": [],
   "source": [
    "le.fit(house_data['Water_Supply'])\n",
    "house_data['Water_Supply']=le.transform(house_data['Water_Supply'])\n",
    "house_test['Water_Supply']=le.transform(house_test['Water_Supply'])"
   ]
  },
  {
   "cell_type": "code",
   "execution_count": 46,
   "id": "bdeeb325",
   "metadata": {},
   "outputs": [],
   "source": [
    "# le.fit(house_data['Crime_Rate'])\n",
    "# house_data['Crime_Rate']=le.transform(house_data['Crime_Rate'])\n",
    "# house_test['Crime_Rate']=le.transform(house_test['Crime_Rate'])"
   ]
  },
  {
   "cell_type": "code",
   "execution_count": 47,
   "id": "7b4ccc66",
   "metadata": {},
   "outputs": [],
   "source": [
    "le.fit(house_data['Dust_and_Noise'])\n",
    "house_data['Dust_and_Noise']=le.transform(house_data['Dust_and_Noise'])\n",
    "house_test['Dust_and_Noise']=le.transform(house_test['Dust_and_Noise'])"
   ]
  },
  {
   "cell_type": "markdown",
   "id": "56b71e8b",
   "metadata": {},
   "source": [
    "# Review"
   ]
  },
  {
   "cell_type": "code",
   "execution_count": 48,
   "id": "c6717758",
   "metadata": {},
   "outputs": [
    {
     "data": {
      "text/html": [
       "<div>\n",
       "<style scoped>\n",
       "    .dataframe tbody tr th:only-of-type {\n",
       "        vertical-align: middle;\n",
       "    }\n",
       "\n",
       "    .dataframe tbody tr th {\n",
       "        vertical-align: top;\n",
       "    }\n",
       "\n",
       "    .dataframe thead th {\n",
       "        text-align: right;\n",
       "    }\n",
       "</style>\n",
       "<table border=\"1\" class=\"dataframe\">\n",
       "  <thead>\n",
       "    <tr style=\"text-align: right;\">\n",
       "      <th></th>\n",
       "      <th>Property_Type</th>\n",
       "      <th>Property_Area</th>\n",
       "      <th>Number_of_Windows</th>\n",
       "      <th>Number_of_Doors</th>\n",
       "      <th>Furnishing</th>\n",
       "      <th>Frequency_of_Powercuts</th>\n",
       "      <th>Power_Backup</th>\n",
       "      <th>Water_Supply</th>\n",
       "      <th>Traffic_Density_Score</th>\n",
       "      <th>Dust_and_Noise</th>\n",
       "      <th>Air_Quality_Index</th>\n",
       "      <th>Neighborhood_Review</th>\n",
       "      <th>Habitability_score</th>\n",
       "      <th>w/d</th>\n",
       "    </tr>\n",
       "  </thead>\n",
       "  <tbody>\n",
       "    <tr>\n",
       "      <th>1</th>\n",
       "      <td>0</td>\n",
       "      <td>733</td>\n",
       "      <td>2.0</td>\n",
       "      <td>2</td>\n",
       "      <td>2</td>\n",
       "      <td>1.0</td>\n",
       "      <td>1</td>\n",
       "      <td>2</td>\n",
       "      <td>4.37</td>\n",
       "      <td>2</td>\n",
       "      <td>96.0</td>\n",
       "      <td>3.55</td>\n",
       "      <td>71.20</td>\n",
       "      <td>1.000000</td>\n",
       "    </tr>\n",
       "    <tr>\n",
       "      <th>2</th>\n",
       "      <td>0</td>\n",
       "      <td>737</td>\n",
       "      <td>4.0</td>\n",
       "      <td>2</td>\n",
       "      <td>0</td>\n",
       "      <td>0.0</td>\n",
       "      <td>1</td>\n",
       "      <td>3</td>\n",
       "      <td>7.45</td>\n",
       "      <td>2</td>\n",
       "      <td>121.0</td>\n",
       "      <td>3.81</td>\n",
       "      <td>71.39</td>\n",
       "      <td>2.000000</td>\n",
       "    </tr>\n",
       "    <tr>\n",
       "      <th>3</th>\n",
       "      <td>0</td>\n",
       "      <td>900</td>\n",
       "      <td>3.0</td>\n",
       "      <td>2</td>\n",
       "      <td>2</td>\n",
       "      <td>2.0</td>\n",
       "      <td>2</td>\n",
       "      <td>3</td>\n",
       "      <td>6.16</td>\n",
       "      <td>2</td>\n",
       "      <td>100.0</td>\n",
       "      <td>1.34</td>\n",
       "      <td>31.46</td>\n",
       "      <td>1.500000</td>\n",
       "    </tr>\n",
       "    <tr>\n",
       "      <th>4</th>\n",
       "      <td>1</td>\n",
       "      <td>2238</td>\n",
       "      <td>14.0</td>\n",
       "      <td>6</td>\n",
       "      <td>0</td>\n",
       "      <td>0.0</td>\n",
       "      <td>1</td>\n",
       "      <td>0</td>\n",
       "      <td>5.46</td>\n",
       "      <td>2</td>\n",
       "      <td>116.0</td>\n",
       "      <td>4.77</td>\n",
       "      <td>93.70</td>\n",
       "      <td>2.333333</td>\n",
       "    </tr>\n",
       "    <tr>\n",
       "      <th>5</th>\n",
       "      <td>4</td>\n",
       "      <td>1185</td>\n",
       "      <td>3.0</td>\n",
       "      <td>3</td>\n",
       "      <td>2</td>\n",
       "      <td>0.0</td>\n",
       "      <td>1</td>\n",
       "      <td>3</td>\n",
       "      <td>5.69</td>\n",
       "      <td>2</td>\n",
       "      <td>91.0</td>\n",
       "      <td>4.49</td>\n",
       "      <td>82.94</td>\n",
       "      <td>1.000000</td>\n",
       "    </tr>\n",
       "  </tbody>\n",
       "</table>\n",
       "</div>"
      ],
      "text/plain": [
       "   Property_Type  Property_Area  Number_of_Windows  Number_of_Doors  \\\n",
       "1              0            733                2.0                2   \n",
       "2              0            737                4.0                2   \n",
       "3              0            900                3.0                2   \n",
       "4              1           2238               14.0                6   \n",
       "5              4           1185                3.0                3   \n",
       "\n",
       "   Furnishing  Frequency_of_Powercuts  Power_Backup  Water_Supply  \\\n",
       "1           2                     1.0             1             2   \n",
       "2           0                     0.0             1             3   \n",
       "3           2                     2.0             2             3   \n",
       "4           0                     0.0             1             0   \n",
       "5           2                     0.0             1             3   \n",
       "\n",
       "   Traffic_Density_Score  Dust_and_Noise  Air_Quality_Index  \\\n",
       "1                   4.37               2               96.0   \n",
       "2                   7.45               2              121.0   \n",
       "3                   6.16               2              100.0   \n",
       "4                   5.46               2              116.0   \n",
       "5                   5.69               2               91.0   \n",
       "\n",
       "   Neighborhood_Review  Habitability_score       w/d  \n",
       "1                 3.55               71.20  1.000000  \n",
       "2                 3.81               71.39  2.000000  \n",
       "3                 1.34               31.46  1.500000  \n",
       "4                 4.77               93.70  2.333333  \n",
       "5                 4.49               82.94  1.000000  "
      ]
     },
     "execution_count": 48,
     "metadata": {},
     "output_type": "execute_result"
    }
   ],
   "source": [
    "house_data.head()"
   ]
  },
  {
   "cell_type": "code",
   "execution_count": 49,
   "id": "b7938a11",
   "metadata": {},
   "outputs": [
    {
     "data": {
      "text/html": [
       "<div>\n",
       "<style scoped>\n",
       "    .dataframe tbody tr th:only-of-type {\n",
       "        vertical-align: middle;\n",
       "    }\n",
       "\n",
       "    .dataframe tbody tr th {\n",
       "        vertical-align: top;\n",
       "    }\n",
       "\n",
       "    .dataframe thead th {\n",
       "        text-align: right;\n",
       "    }\n",
       "</style>\n",
       "<table border=\"1\" class=\"dataframe\">\n",
       "  <thead>\n",
       "    <tr style=\"text-align: right;\">\n",
       "      <th></th>\n",
       "      <th>Property_ID</th>\n",
       "      <th>Property_Type</th>\n",
       "      <th>Property_Area</th>\n",
       "      <th>Number_of_Windows</th>\n",
       "      <th>Number_of_Doors</th>\n",
       "      <th>Furnishing</th>\n",
       "      <th>Frequency_of_Powercuts</th>\n",
       "      <th>Power_Backup</th>\n",
       "      <th>Water_Supply</th>\n",
       "      <th>Traffic_Density_Score</th>\n",
       "      <th>Dust_and_Noise</th>\n",
       "      <th>Air_Quality_Index</th>\n",
       "      <th>Neighborhood_Review</th>\n",
       "    </tr>\n",
       "  </thead>\n",
       "  <tbody>\n",
       "    <tr>\n",
       "      <th>0</th>\n",
       "      <td>0x6e93</td>\n",
       "      <td>0</td>\n",
       "      <td>293</td>\n",
       "      <td>3.0</td>\n",
       "      <td>1</td>\n",
       "      <td>2</td>\n",
       "      <td>0.0</td>\n",
       "      <td>1</td>\n",
       "      <td>3</td>\n",
       "      <td>7.28</td>\n",
       "      <td>2</td>\n",
       "      <td>152.0</td>\n",
       "      <td>2.52</td>\n",
       "    </tr>\n",
       "    <tr>\n",
       "      <th>1</th>\n",
       "      <td>0x8787</td>\n",
       "      <td>0</td>\n",
       "      <td>586</td>\n",
       "      <td>4.0</td>\n",
       "      <td>1</td>\n",
       "      <td>1</td>\n",
       "      <td>0.0</td>\n",
       "      <td>1</td>\n",
       "      <td>2</td>\n",
       "      <td>7.63</td>\n",
       "      <td>2</td>\n",
       "      <td>92.0</td>\n",
       "      <td>4.16</td>\n",
       "    </tr>\n",
       "    <tr>\n",
       "      <th>2</th>\n",
       "      <td>0x6c17</td>\n",
       "      <td>2</td>\n",
       "      <td>305</td>\n",
       "      <td>1.0</td>\n",
       "      <td>2</td>\n",
       "      <td>1</td>\n",
       "      <td>1.0</td>\n",
       "      <td>1</td>\n",
       "      <td>0</td>\n",
       "      <td>5.39</td>\n",
       "      <td>2</td>\n",
       "      <td>90.0</td>\n",
       "      <td>2.92</td>\n",
       "    </tr>\n",
       "    <tr>\n",
       "      <th>3</th>\n",
       "      <td>0x9dbd</td>\n",
       "      <td>0</td>\n",
       "      <td>258</td>\n",
       "      <td>2.0</td>\n",
       "      <td>1</td>\n",
       "      <td>1</td>\n",
       "      <td>1.0</td>\n",
       "      <td>1</td>\n",
       "      <td>0</td>\n",
       "      <td>7.53</td>\n",
       "      <td>2</td>\n",
       "      <td>158.0</td>\n",
       "      <td>3.45</td>\n",
       "    </tr>\n",
       "    <tr>\n",
       "      <th>4</th>\n",
       "      <td>0xbfde</td>\n",
       "      <td>1</td>\n",
       "      <td>3031</td>\n",
       "      <td>12.0</td>\n",
       "      <td>4</td>\n",
       "      <td>0</td>\n",
       "      <td>0.0</td>\n",
       "      <td>1</td>\n",
       "      <td>0</td>\n",
       "      <td>8.79</td>\n",
       "      <td>0</td>\n",
       "      <td>186.0</td>\n",
       "      <td>2.72</td>\n",
       "    </tr>\n",
       "  </tbody>\n",
       "</table>\n",
       "</div>"
      ],
      "text/plain": [
       "  Property_ID  Property_Type  Property_Area  Number_of_Windows  \\\n",
       "0      0x6e93              0            293                3.0   \n",
       "1      0x8787              0            586                4.0   \n",
       "2      0x6c17              2            305                1.0   \n",
       "3      0x9dbd              0            258                2.0   \n",
       "4      0xbfde              1           3031               12.0   \n",
       "\n",
       "   Number_of_Doors  Furnishing  Frequency_of_Powercuts  Power_Backup  \\\n",
       "0                1           2                     0.0             1   \n",
       "1                1           1                     0.0             1   \n",
       "2                2           1                     1.0             1   \n",
       "3                1           1                     1.0             1   \n",
       "4                4           0                     0.0             1   \n",
       "\n",
       "   Water_Supply  Traffic_Density_Score  Dust_and_Noise  Air_Quality_Index  \\\n",
       "0             3                   7.28               2              152.0   \n",
       "1             2                   7.63               2               92.0   \n",
       "2             0                   5.39               2               90.0   \n",
       "3             0                   7.53               2              158.0   \n",
       "4             0                   8.79               0              186.0   \n",
       "\n",
       "   Neighborhood_Review  \n",
       "0                 2.52  \n",
       "1                 4.16  \n",
       "2                 2.92  \n",
       "3                 3.45  \n",
       "4                 2.72  "
      ]
     },
     "execution_count": 49,
     "metadata": {},
     "output_type": "execute_result"
    }
   ],
   "source": [
    "house_test.head()"
   ]
  },
  {
   "cell_type": "markdown",
   "id": "ec44bd29",
   "metadata": {},
   "source": [
    "# Splitting"
   ]
  },
  {
   "cell_type": "code",
   "execution_count": 50,
   "id": "1733d579",
   "metadata": {},
   "outputs": [],
   "source": [
    "train_data, test_data = train_test_split(house_data, test_size=0.2, random_state=100)"
   ]
  },
  {
   "cell_type": "markdown",
   "id": "fd789b81",
   "metadata": {},
   "source": [
    "# Training"
   ]
  },
  {
   "cell_type": "code",
   "execution_count": 51,
   "id": "6204e07a",
   "metadata": {},
   "outputs": [],
   "source": [
    "# change here when testing and final submission\n",
    "X = train_data[['Property_Area', 'Number_of_Windows','Number_of_Doors', 'Furnishing', 'Frequency_of_Powercuts','Power_Backup', 'Water_Supply', 'Traffic_Density_Score','Dust_and_Noise', 'Air_Quality_Index', 'Neighborhood_Review']]\n",
    "Y = train_data[['Habitability_score']]"
   ]
  },
  {
   "cell_type": "code",
   "execution_count": 52,
   "id": "94f2eade",
   "metadata": {},
   "outputs": [],
   "source": [
    "x = test_data[['Property_Area', 'Number_of_Windows',\n",
    "       'Number_of_Doors', 'Furnishing', 'Frequency_of_Powercuts',\n",
    "       'Power_Backup', 'Water_Supply', 'Traffic_Density_Score',\n",
    "       'Dust_and_Noise', 'Air_Quality_Index', 'Neighborhood_Review']]\n",
    "y=test_data[['Habitability_score']]"
   ]
  },
  {
   "cell_type": "code",
   "execution_count": 53,
   "id": "d6c81581",
   "metadata": {},
   "outputs": [],
   "source": [
    "e = y.loc[y.index].values.reshape(-1).tolist()"
   ]
  },
  {
   "cell_type": "code",
   "execution_count": null,
   "id": "348756ae",
   "metadata": {},
   "outputs": [],
   "source": []
  },
  {
   "cell_type": "code",
   "execution_count": null,
   "id": "64c86805",
   "metadata": {},
   "outputs": [],
   "source": []
  },
  {
   "cell_type": "code",
   "execution_count": null,
   "id": "3b098cf9",
   "metadata": {},
   "outputs": [],
   "source": []
  },
  {
   "cell_type": "code",
   "execution_count": null,
   "id": "e9134bdb",
   "metadata": {},
   "outputs": [],
   "source": []
  },
  {
   "cell_type": "code",
   "execution_count": null,
   "id": "6b656293",
   "metadata": {},
   "outputs": [],
   "source": []
  },
  {
   "cell_type": "code",
   "execution_count": null,
   "id": "9e262b1f",
   "metadata": {},
   "outputs": [],
   "source": []
  },
  {
   "cell_type": "code",
   "execution_count": 54,
   "id": "e3bfaebd",
   "metadata": {},
   "outputs": [],
   "source": [
    "x_ids = house_test[['Property_ID']]"
   ]
  },
  {
   "cell_type": "code",
   "execution_count": 55,
   "id": "71d9c097",
   "metadata": {},
   "outputs": [],
   "source": [
    "x_test = house_test[['Property_Area', 'Number_of_Windows',\n",
    "       'Number_of_Doors', 'Furnishing', 'Frequency_of_Powercuts',\n",
    "       'Power_Backup', 'Water_Supply', 'Traffic_Density_Score',\n",
    "       'Dust_and_Noise', 'Air_Quality_Index', 'Neighborhood_Review']]\n",
    "x_test=x_test.loc[x_test.index].values.tolist()"
   ]
  },
  {
   "cell_type": "code",
   "execution_count": null,
   "id": "69336328",
   "metadata": {},
   "outputs": [],
   "source": []
  },
  {
   "cell_type": "code",
   "execution_count": null,
   "id": "9e16e70a",
   "metadata": {},
   "outputs": [],
   "source": []
  },
  {
   "cell_type": "code",
   "execution_count": 56,
   "id": "ab2cfe54",
   "metadata": {},
   "outputs": [],
   "source": [
    "from sklearn.metrics import r2_score"
   ]
  },
  {
   "cell_type": "code",
   "execution_count": 57,
   "id": "ca8733eb",
   "metadata": {},
   "outputs": [],
   "source": [
    "xgb_model = xgb.XGBRegressor(colsample_bytree=0.4603, gamma=0.0468, \n",
    "                             learning_rate=0.05, max_depth=3, \n",
    "                             min_child_weight=1.7817, n_estimators=2200,\n",
    "                             reg_alpha=0.4640, reg_lambda=0.8571,\n",
    "                             subsample=0.5213, silent=1,\n",
    "                             random_state =7, nthread = -1)"
   ]
  },
  {
   "cell_type": "code",
   "execution_count": 58,
   "id": "e405e744",
   "metadata": {},
   "outputs": [
    {
     "name": "stdout",
     "output_type": "stream",
     "text": [
      "[05:04:09] WARNING: D:\\bld\\xgboost-split_1660208973102\\work\\src\\learner.cc:627: \n",
      "Parameters: { \"silent\" } might not be used.\n",
      "\n",
      "  This could be a false alarm, with some parameters getting used by language bindings but\n",
      "  then being mistakenly passed down to XGBoost core, or some parameter actually being used\n",
      "  but getting flagged wrongly here. Please open an issue if you find any such cases.\n",
      "\n",
      "\n"
     ]
    },
    {
     "data": {
      "text/plain": [
       "XGBRegressor(base_score=0.5, booster='gbtree', callbacks=None,\n",
       "             colsample_bylevel=1, colsample_bynode=1, colsample_bytree=0.4603,\n",
       "             early_stopping_rounds=None, enable_categorical=False,\n",
       "             eval_metric=None, gamma=0.0468, gpu_id=-1, grow_policy='depthwise',\n",
       "             importance_type=None, interaction_constraints='',\n",
       "             learning_rate=0.05, max_bin=256, max_cat_to_onehot=4,\n",
       "             max_delta_step=0, max_depth=3, max_leaves=0,\n",
       "             min_child_weight=1.7817, missing=nan, monotone_constraints='()',\n",
       "             n_estimators=2200, n_jobs=-1, nthread=-1, num_parallel_tree=1,\n",
       "             predictor='auto', random_state=7, reg_alpha=0.464, ...)"
      ]
     },
     "execution_count": 58,
     "metadata": {},
     "output_type": "execute_result"
    }
   ],
   "source": [
    "xgb_model.fit(X.loc[X.index].values.tolist(), Y.loc[Y.index].values.reshape(-1).tolist())"
   ]
  },
  {
   "cell_type": "code",
   "execution_count": 61,
   "id": "7127076e",
   "metadata": {},
   "outputs": [],
   "source": [
    "# prediction = xgb_model.predict(x_test)\n",
    "p = xgb_model.predict(x.loc[x.index].values.tolist())"
   ]
  },
  {
   "cell_type": "code",
   "execution_count": 62,
   "id": "c5501583",
   "metadata": {},
   "outputs": [
    {
     "data": {
      "text/plain": [
       "0.7785014063169391"
      ]
     },
     "execution_count": 62,
     "metadata": {},
     "output_type": "execute_result"
    }
   ],
   "source": [
    "r2_score(e, p)"
   ]
  },
  {
   "cell_type": "code",
   "execution_count": 63,
   "id": "872ae5e3",
   "metadata": {},
   "outputs": [],
   "source": [
    "x_test_xgb=house_test[['Property_ID']]"
   ]
  },
  {
   "cell_type": "code",
   "execution_count": 64,
   "id": "9d6735e7",
   "metadata": {},
   "outputs": [
    {
     "ename": "NameError",
     "evalue": "name 'prediction' is not defined",
     "output_type": "error",
     "traceback": [
      "\u001b[1;31m---------------------------------------------------------------------------\u001b[0m",
      "\u001b[1;31mNameError\u001b[0m                                 Traceback (most recent call last)",
      "\u001b[1;32m~\\AppData\\Local\\Temp/ipykernel_5752/445806896.py\u001b[0m in \u001b[0;36m<module>\u001b[1;34m\u001b[0m\n\u001b[1;32m----> 1\u001b[1;33m \u001b[0mx_test_xgb\u001b[0m\u001b[1;33m[\u001b[0m\u001b[1;34m'Habitability_score'\u001b[0m\u001b[1;33m]\u001b[0m\u001b[1;33m=\u001b[0m\u001b[0mprediction\u001b[0m\u001b[1;33m\u001b[0m\u001b[1;33m\u001b[0m\u001b[0m\n\u001b[0m",
      "\u001b[1;31mNameError\u001b[0m: name 'prediction' is not defined"
     ]
    }
   ],
   "source": [
    "x_test_xgb['Habitability_score']=prediction"
   ]
  },
  {
   "cell_type": "code",
   "execution_count": 65,
   "id": "0a71396f",
   "metadata": {},
   "outputs": [],
   "source": [
    "x_test_xgb.to_csv('result_xgb.csv', index=False)"
   ]
  },
  {
   "cell_type": "markdown",
   "id": "caf8975d",
   "metadata": {},
   "source": [
    "# Gradient boost"
   ]
  },
  {
   "cell_type": "code",
   "execution_count": 66,
   "id": "82ed131c",
   "metadata": {},
   "outputs": [],
   "source": [
    "from sklearn.ensemble import GradientBoostingRegressor"
   ]
  },
  {
   "cell_type": "code",
   "execution_count": 67,
   "id": "8a12d012",
   "metadata": {},
   "outputs": [],
   "source": [
    "gd_model = GradientBoostingRegressor(n_estimators=200, max_depth=10, loss='ls')"
   ]
  },
  {
   "cell_type": "code",
   "execution_count": 68,
   "id": "8ef16ab3",
   "metadata": {},
   "outputs": [
    {
     "data": {
      "text/plain": [
       "GradientBoostingRegressor(max_depth=10, n_estimators=200)"
      ]
     },
     "execution_count": 68,
     "metadata": {},
     "output_type": "execute_result"
    }
   ],
   "source": [
    "gd_model.fit(X.loc[X.index].values.tolist(), Y.loc[Y.index].values.reshape(-1).tolist())"
   ]
  },
  {
   "cell_type": "code",
   "execution_count": 69,
   "id": "d88b144d",
   "metadata": {},
   "outputs": [],
   "source": [
    "p=gd_model.predict(x.loc[x.index].values.tolist())"
   ]
  },
  {
   "cell_type": "code",
   "execution_count": 70,
   "id": "c9ca5bc8",
   "metadata": {},
   "outputs": [
    {
     "data": {
      "text/plain": [
       "0.8355481586494751"
      ]
     },
     "execution_count": 70,
     "metadata": {},
     "output_type": "execute_result"
    }
   ],
   "source": [
    "r2_score(e, p)"
   ]
  },
  {
   "cell_type": "code",
   "execution_count": 71,
   "id": "b92ebce1",
   "metadata": {},
   "outputs": [],
   "source": [
    "p=gd_model.predict(x_test)"
   ]
  },
  {
   "cell_type": "code",
   "execution_count": 72,
   "id": "73006130",
   "metadata": {},
   "outputs": [
    {
     "data": {
      "text/plain": [
       "array([29.32432807, 80.44882558, 67.34393603, ..., 74.05778012,\n",
       "       78.8410196 , 80.56918657])"
      ]
     },
     "execution_count": 72,
     "metadata": {},
     "output_type": "execute_result"
    }
   ],
   "source": [
    "p"
   ]
  },
  {
   "cell_type": "code",
   "execution_count": null,
   "id": "2acad50b",
   "metadata": {},
   "outputs": [],
   "source": []
  },
  {
   "cell_type": "markdown",
   "id": "96f45490",
   "metadata": {},
   "source": [
    "# Evaluation random forest"
   ]
  },
  {
   "cell_type": "code",
   "execution_count": 73,
   "id": "df97fb47",
   "metadata": {},
   "outputs": [],
   "source": [
    "from sklearn.metrics import r2_score"
   ]
  },
  {
   "cell_type": "code",
   "execution_count": 74,
   "id": "94fa0b66",
   "metadata": {},
   "outputs": [],
   "source": [
    "forest_model = RandomForestRegressor(max_depth=10, n_estimators=200)"
   ]
  },
  {
   "cell_type": "code",
   "execution_count": 75,
   "id": "c08c3855",
   "metadata": {},
   "outputs": [
    {
     "data": {
      "text/plain": [
       "RandomForestRegressor(max_depth=10, n_estimators=200)"
      ]
     },
     "execution_count": 75,
     "metadata": {},
     "output_type": "execute_result"
    }
   ],
   "source": [
    "forest_model.fit(X.loc[X.index].values.tolist(), Y.loc[Y.index].values.reshape(-1).tolist())"
   ]
  },
  {
   "cell_type": "code",
   "execution_count": 76,
   "id": "18ac4b0d",
   "metadata": {},
   "outputs": [],
   "source": [
    "p = forest_model.predict(x.loc[x.index].values.tolist())"
   ]
  },
  {
   "cell_type": "code",
   "execution_count": 77,
   "id": "0dd23dad",
   "metadata": {},
   "outputs": [
    {
     "data": {
      "text/plain": [
       "0.8391079055384414"
      ]
     },
     "execution_count": 77,
     "metadata": {},
     "output_type": "execute_result"
    }
   ],
   "source": [
    "r2_score(e, p)"
   ]
  },
  {
   "cell_type": "markdown",
   "id": "66462997",
   "metadata": {},
   "source": [
    "\n",
    "# CSV output"
   ]
  },
  {
   "cell_type": "code",
   "execution_count": 78,
   "id": "d9e4566e",
   "metadata": {},
   "outputs": [],
   "source": [
    "prediction = forest_model.predict(x_test)"
   ]
  },
  {
   "cell_type": "code",
   "execution_count": 79,
   "id": "a4d91adc",
   "metadata": {},
   "outputs": [
    {
     "name": "stderr",
     "output_type": "stream",
     "text": [
      "C:\\Users\\stard\\AppData\\Local\\Temp/ipykernel_5752/3109291245.py:1: SettingWithCopyWarning: \n",
      "A value is trying to be set on a copy of a slice from a DataFrame.\n",
      "Try using .loc[row_indexer,col_indexer] = value instead\n",
      "\n",
      "See the caveats in the documentation: https://pandas.pydata.org/pandas-docs/stable/user_guide/indexing.html#returning-a-view-versus-a-copy\n",
      "  x_ids['Habitability_score']=prediction\n"
     ]
    }
   ],
   "source": [
    "x_ids['Habitability_score']=prediction"
   ]
  },
  {
   "cell_type": "code",
   "execution_count": null,
   "id": "cffa4f0a",
   "metadata": {},
   "outputs": [],
   "source": [
    "x_ids.to_csv('result.csv', index=False)"
   ]
  },
  {
   "cell_type": "code",
   "execution_count": null,
   "id": "09999d39",
   "metadata": {},
   "outputs": [],
   "source": []
  }
 ],
 "metadata": {
  "kernelspec": {
   "display_name": "Python 3 (ipykernel)",
   "language": "python",
   "name": "python3"
  },
  "language_info": {
   "codemirror_mode": {
    "name": "ipython",
    "version": 3
   },
   "file_extension": ".py",
   "mimetype": "text/x-python",
   "name": "python",
   "nbconvert_exporter": "python",
   "pygments_lexer": "ipython3",
   "version": "3.9.7"
  }
 },
 "nbformat": 4,
 "nbformat_minor": 5
}
