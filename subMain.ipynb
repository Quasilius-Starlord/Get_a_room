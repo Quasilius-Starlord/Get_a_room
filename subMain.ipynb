{
 "cells": [
  {
   "cell_type": "code",
   "execution_count": 1,
   "id": "abc1ca3b",
   "metadata": {},
   "outputs": [],
   "source": [
    "import pandas as pd\n",
    "import numpy as np\n",
    "from sklearn.model_selection import train_test_split\n",
    "import matplotlib.pyplot as plt\n",
    "from sklearn.ensemble import RandomForestRegressor\n",
    "from sklearn import preprocessing\n",
    "\n",
    "path = './dataset/train.csv'\n",
    "house_data = pd.read_csv(path)"
   ]
  },
  {
   "cell_type": "code",
   "execution_count": 39,
   "id": "5fdc4d3c",
   "metadata": {},
   "outputs": [],
   "source": [
    "import xgboost as xgb"
   ]
  },
  {
   "cell_type": "code",
   "execution_count": 40,
   "id": "ca8733eb",
   "metadata": {},
   "outputs": [],
   "source": [
    "xgb_model = xgb.XGBRegressor()"
   ]
  },
  {
   "cell_type": "code",
   "execution_count": 41,
   "id": "e405e744",
   "metadata": {},
   "outputs": [
    {
     "data": {
      "text/plain": [
       "XGBRegressor(base_score=0.5, booster='gbtree', callbacks=None,\n",
       "             colsample_bylevel=1, colsample_bynode=1, colsample_bytree=1,\n",
       "             early_stopping_rounds=None, enable_categorical=False,\n",
       "             eval_metric=None, gamma=0, gpu_id=-1, grow_policy='depthwise',\n",
       "             importance_type=None, interaction_constraints='',\n",
       "             learning_rate=0.300000012, max_bin=256, max_cat_to_onehot=4,\n",
       "             max_delta_step=0, max_depth=6, max_leaves=0, min_child_weight=1,\n",
       "             missing=nan, monotone_constraints='()', n_estimators=100, n_jobs=0,\n",
       "             num_parallel_tree=1, predictor='auto', random_state=0, reg_alpha=0,\n",
       "             reg_lambda=1, ...)"
      ]
     },
     "execution_count": 41,
     "metadata": {},
     "output_type": "execute_result"
    }
   ],
   "source": [
    "xgb_model.fit(X.loc[X.index].values.tolist(), Y.loc[Y.index].values.reshape(-1).tolist())"
   ]
  },
  {
   "cell_type": "code",
   "execution_count": 42,
   "id": "7127076e",
   "metadata": {},
   "outputs": [],
   "source": [
    "p = xgb_model.predict(x.loc[x.index].values.tolist())"
   ]
  },
  {
   "cell_type": "code",
   "execution_count": 43,
   "id": "add0f844",
   "metadata": {},
   "outputs": [
    {
     "data": {
      "text/plain": [
       "array([77.46059 , 35.399414, 73.62765 , ..., 77.726814, 80.1782  ,\n",
       "       77.170456], dtype=float32)"
      ]
     },
     "execution_count": 43,
     "metadata": {},
     "output_type": "execute_result"
    }
   ],
   "source": [
    "p"
   ]
  },
  {
   "cell_type": "code",
   "execution_count": 44,
   "id": "a685a9a3",
   "metadata": {},
   "outputs": [
    {
     "data": {
      "text/plain": [
       "0.8203647772490287"
      ]
     },
     "execution_count": 44,
     "metadata": {},
     "output_type": "execute_result"
    }
   ],
   "source": [
    "r2_score(e, p)"
   ]
  },
  {
   "cell_type": "code",
   "execution_count": 45,
   "id": "54967843",
   "metadata": {},
   "outputs": [],
   "source": [
    "from sklearn.neural_network import MLPClassifier\n",
    "from sklearn.neural_network import MLPRegressor"
   ]
  },
  {
   "cell_type": "code",
   "execution_count": 46,
   "id": "b49cfbd0",
   "metadata": {},
   "outputs": [],
   "source": [
    "model_neural_net = MLPRegressor(activation='relu', hidden_layer_sizes=(13, 150, 40, 100))"
   ]
  },
  {
   "cell_type": "code",
   "execution_count": 47,
   "id": "5e9658cb",
   "metadata": {},
   "outputs": [
    {
     "data": {
      "text/plain": [
       "MLPRegressor(hidden_layer_sizes=(13, 150, 40, 100))"
      ]
     },
     "execution_count": 47,
     "metadata": {},
     "output_type": "execute_result"
    }
   ],
   "source": [
    "model_neural_net.fit(X.loc[X.index].values.tolist(), Y.loc[Y.index].values.reshape(-1).tolist())"
   ]
  },
  {
   "cell_type": "code",
   "execution_count": 48,
   "id": "aa189b16",
   "metadata": {},
   "outputs": [],
   "source": [
    "p = model_neural_net.predict(x.loc[x.index].values.tolist())"
   ]
  },
  {
   "cell_type": "code",
   "execution_count": 49,
   "id": "144f8558",
   "metadata": {},
   "outputs": [
    {
     "data": {
      "text/plain": [
       "array([82.89727954, 51.8022451 , 70.23002712, ..., 73.9522153 ,\n",
       "       74.82913963, 81.65281775])"
      ]
     },
     "execution_count": 49,
     "metadata": {},
     "output_type": "execute_result"
    }
   ],
   "source": [
    "p"
   ]
  },
  {
   "cell_type": "code",
   "execution_count": 50,
   "id": "018f945e",
   "metadata": {},
   "outputs": [
    {
     "data": {
      "text/plain": [
       "0.6139155345577569"
      ]
     },
     "execution_count": 50,
     "metadata": {},
     "output_type": "execute_result"
    }
   ],
   "source": [
    "r2_score(e, p)"
   ]
  },
  {
   "cell_type": "code",
   "execution_count": 51,
   "id": "e88e736b",
   "metadata": {},
   "outputs": [],
   "source": [
    "scores=[]"
   ]
  },
  {
   "cell_type": "code",
   "execution_count": 182,
   "id": "7b9ff75e",
   "metadata": {},
   "outputs": [],
   "source": [
    "path_test = './dataset/test.csv'\n",
    "path_train = './dataset/train.csv'\n",
    "house_test = pd.read_csv(path_test)\n",
    "house_train = pd.read_csv(path_train)"
   ]
  },
  {
   "cell_type": "code",
   "execution_count": 183,
   "id": "2a7cb8eb",
   "metadata": {},
   "outputs": [
    {
     "data": {
      "text/plain": [
       "Property_ID                 0\n",
       "Property_Type               0\n",
       "Property_Area               0\n",
       "Number_of_Windows         445\n",
       "Number_of_Doors             0\n",
       "Furnishing                257\n",
       "Frequency_of_Powercuts    366\n",
       "Power_Backup                0\n",
       "Water_Supply                0\n",
       "Traffic_Density_Score       0\n",
       "Crime_Rate                212\n",
       "Dust_and_Noise            330\n",
       "Air_Quality_Index           0\n",
       "Neighborhood_Review         0\n",
       "dtype: int64"
      ]
     },
     "execution_count": 183,
     "metadata": {},
     "output_type": "execute_result"
    }
   ],
   "source": [
    "house_test.isna().sum()"
   ]
  },
  {
   "cell_type": "code",
   "execution_count": 184,
   "id": "6a2af065",
   "metadata": {},
   "outputs": [
    {
     "data": {
      "text/plain": [
       "Property_ID                  0\n",
       "Property_Type                0\n",
       "Property_Area                0\n",
       "Number_of_Windows         1654\n",
       "Number_of_Doors              0\n",
       "Furnishing                1042\n",
       "Frequency_of_Powercuts    1383\n",
       "Power_Backup                 0\n",
       "Water_Supply                 0\n",
       "Traffic_Density_Score        0\n",
       "Crime_Rate                 787\n",
       "Dust_and_Noise            1219\n",
       "Air_Quality_Index            0\n",
       "Neighborhood_Review          0\n",
       "Habitability_score           0\n",
       "dtype: int64"
      ]
     },
     "execution_count": 184,
     "metadata": {},
     "output_type": "execute_result"
    }
   ],
   "source": [
    "house_train.isna().sum()"
   ]
  },
  {
   "cell_type": "code",
   "execution_count": 185,
   "id": "23c9d46c",
   "metadata": {},
   "outputs": [],
   "source": [
    "house_train = house_data.dropna()"
   ]
  },
  {
   "cell_type": "code",
   "execution_count": 186,
   "id": "42e4f2c7",
   "metadata": {},
   "outputs": [
    {
     "data": {
      "text/plain": [
       "array(['Apartment', 'Container Home', 'Bungalow', 'Single-family home',\n",
       "       'Duplex', '#R%$G&867'], dtype=object)"
      ]
     },
     "execution_count": 186,
     "metadata": {},
     "output_type": "execute_result"
    }
   ],
   "source": [
    "house_test['Property_Type'].unique()"
   ]
  },
  {
   "cell_type": "code",
   "execution_count": 187,
   "id": "8835dbc8",
   "metadata": {},
   "outputs": [],
   "source": [
    "house_test['Property_Type'] = house_test['Property_Type'].replace('#R%$G&867', 'Apartment')\n",
    "house_train['Property_Type'] = house_train['Property_Type'].replace('#R%$G&867', 'Apartment')"
   ]
  },
  {
   "cell_type": "code",
   "execution_count": 188,
   "id": "0cab40b5",
   "metadata": {},
   "outputs": [
    {
     "data": {
      "text/plain": [
       "array(['Apartment', 'Container Home', 'Bungalow', 'Single-family home',\n",
       "       'Duplex'], dtype=object)"
      ]
     },
     "execution_count": 188,
     "metadata": {},
     "output_type": "execute_result"
    }
   ],
   "source": [
    "house_test['Property_Type'].unique()"
   ]
  },
  {
   "cell_type": "code",
   "execution_count": 189,
   "id": "3780bdfb",
   "metadata": {},
   "outputs": [
    {
     "data": {
      "text/html": [
       "<div>\n",
       "<style scoped>\n",
       "    .dataframe tbody tr th:only-of-type {\n",
       "        vertical-align: middle;\n",
       "    }\n",
       "\n",
       "    .dataframe tbody tr th {\n",
       "        vertical-align: top;\n",
       "    }\n",
       "\n",
       "    .dataframe thead th {\n",
       "        text-align: right;\n",
       "    }\n",
       "</style>\n",
       "<table border=\"1\" class=\"dataframe\">\n",
       "  <thead>\n",
       "    <tr style=\"text-align: right;\">\n",
       "      <th></th>\n",
       "      <th>count</th>\n",
       "      <th>mean</th>\n",
       "      <th>std</th>\n",
       "      <th>min</th>\n",
       "      <th>25%</th>\n",
       "      <th>50%</th>\n",
       "      <th>75%</th>\n",
       "      <th>max</th>\n",
       "    </tr>\n",
       "    <tr>\n",
       "      <th>Property_Type</th>\n",
       "      <th></th>\n",
       "      <th></th>\n",
       "      <th></th>\n",
       "      <th></th>\n",
       "      <th></th>\n",
       "      <th></th>\n",
       "      <th></th>\n",
       "      <th></th>\n",
       "    </tr>\n",
       "  </thead>\n",
       "  <tbody>\n",
       "    <tr>\n",
       "      <th>Apartment</th>\n",
       "      <td>3823.0</td>\n",
       "      <td>2.524457</td>\n",
       "      <td>1.216004</td>\n",
       "      <td>0.0</td>\n",
       "      <td>1.0</td>\n",
       "      <td>2.0</td>\n",
       "      <td>4.0</td>\n",
       "      <td>14.0</td>\n",
       "    </tr>\n",
       "    <tr>\n",
       "      <th>Bungalow</th>\n",
       "      <td>1061.0</td>\n",
       "      <td>9.403393</td>\n",
       "      <td>3.465102</td>\n",
       "      <td>4.0</td>\n",
       "      <td>6.0</td>\n",
       "      <td>9.0</td>\n",
       "      <td>12.0</td>\n",
       "      <td>15.0</td>\n",
       "    </tr>\n",
       "    <tr>\n",
       "      <th>Container Home</th>\n",
       "      <td>746.0</td>\n",
       "      <td>1.583110</td>\n",
       "      <td>1.098716</td>\n",
       "      <td>0.0</td>\n",
       "      <td>1.0</td>\n",
       "      <td>2.0</td>\n",
       "      <td>3.0</td>\n",
       "      <td>3.0</td>\n",
       "    </tr>\n",
       "    <tr>\n",
       "      <th>Duplex</th>\n",
       "      <td>1454.0</td>\n",
       "      <td>5.577029</td>\n",
       "      <td>1.112673</td>\n",
       "      <td>4.0</td>\n",
       "      <td>5.0</td>\n",
       "      <td>6.0</td>\n",
       "      <td>7.0</td>\n",
       "      <td>7.0</td>\n",
       "    </tr>\n",
       "    <tr>\n",
       "      <th>Single-family home</th>\n",
       "      <td>2971.0</td>\n",
       "      <td>3.457422</td>\n",
       "      <td>1.106967</td>\n",
       "      <td>2.0</td>\n",
       "      <td>2.0</td>\n",
       "      <td>3.0</td>\n",
       "      <td>4.0</td>\n",
       "      <td>5.0</td>\n",
       "    </tr>\n",
       "  </tbody>\n",
       "</table>\n",
       "</div>"
      ],
      "text/plain": [
       "                     count      mean       std  min  25%  50%   75%   max\n",
       "Property_Type                                                            \n",
       "Apartment           3823.0  2.524457  1.216004  0.0  1.0  2.0   4.0  14.0\n",
       "Bungalow            1061.0  9.403393  3.465102  4.0  6.0  9.0  12.0  15.0\n",
       "Container Home       746.0  1.583110  1.098716  0.0  1.0  2.0   3.0   3.0\n",
       "Duplex              1454.0  5.577029  1.112673  4.0  5.0  6.0   7.0   7.0\n",
       "Single-family home  2971.0  3.457422  1.106967  2.0  2.0  3.0   4.0   5.0"
      ]
     },
     "execution_count": 189,
     "metadata": {},
     "output_type": "execute_result"
    }
   ],
   "source": [
    "house_test.groupby(['Property_Type'])['Number_of_Windows'].describe()"
   ]
  },
  {
   "cell_type": "code",
   "execution_count": 190,
   "id": "9cf7c281",
   "metadata": {},
   "outputs": [],
   "source": [
    "releIndex = house_test[(house_test['Number_of_Windows'].isna()) & (house_test['Property_Type'] == 'Apartment')].index\n",
    "house_test.loc[releIndex,['Number_of_Windows']] = 2.0"
   ]
  },
  {
   "cell_type": "code",
   "execution_count": 191,
   "id": "77021a20",
   "metadata": {},
   "outputs": [],
   "source": [
    "releIndex = house_test[(house_test['Number_of_Windows'].isna()) & (house_test['Property_Type'] == 'Bungalow')].index\n",
    "house_test.loc[releIndex,['Number_of_Windows']] = 9.0"
   ]
  },
  {
   "cell_type": "code",
   "execution_count": 192,
   "id": "53959bdc",
   "metadata": {},
   "outputs": [],
   "source": [
    "releIndex = house_test[(house_test['Number_of_Windows'].isna()) & (house_test['Property_Type'] == 'Container Home')].index\n",
    "house_test.loc[releIndex,['Number_of_Windows']] = 2.0"
   ]
  },
  {
   "cell_type": "code",
   "execution_count": 193,
   "id": "fc671e1d",
   "metadata": {},
   "outputs": [],
   "source": [
    "releIndex = house_test[(house_test['Number_of_Windows'].isna()) & (house_test['Property_Type'] == 'Duplex')].index\n",
    "house_test.loc[releIndex,['Number_of_Windows']] = 6.0"
   ]
  },
  {
   "cell_type": "code",
   "execution_count": 194,
   "id": "6dac4de0",
   "metadata": {},
   "outputs": [],
   "source": [
    "releIndex = house_test[(house_test['Number_of_Windows'].isna()) & (house_test['Property_Type'] == 'Single-family home')].index\n",
    "house_test.loc[releIndex,['Number_of_Windows']] = 3.0"
   ]
  },
  {
   "cell_type": "code",
   "execution_count": 195,
   "id": "139be492",
   "metadata": {},
   "outputs": [],
   "source": [
    "house_test['Furnishing'] = house_test['Furnishing'].fillna('Semi_Furnished')"
   ]
  },
  {
   "cell_type": "code",
   "execution_count": 196,
   "id": "812092c3",
   "metadata": {},
   "outputs": [],
   "source": [
    "house_test['Frequency_of_Powercuts'] = house_test['Frequency_of_Powercuts'].fillna(0.000000)"
   ]
  },
  {
   "cell_type": "code",
   "execution_count": 198,
   "id": "9ed5a040",
   "metadata": {},
   "outputs": [
    {
     "data": {
      "text/html": [
       "<div>\n",
       "<style scoped>\n",
       "    .dataframe tbody tr th:only-of-type {\n",
       "        vertical-align: middle;\n",
       "    }\n",
       "\n",
       "    .dataframe tbody tr th {\n",
       "        vertical-align: top;\n",
       "    }\n",
       "\n",
       "    .dataframe thead th {\n",
       "        text-align: right;\n",
       "    }\n",
       "</style>\n",
       "<table border=\"1\" class=\"dataframe\">\n",
       "  <thead>\n",
       "    <tr style=\"text-align: right;\">\n",
       "      <th></th>\n",
       "      <th>count</th>\n",
       "      <th>mean</th>\n",
       "      <th>std</th>\n",
       "      <th>min</th>\n",
       "      <th>25%</th>\n",
       "      <th>50%</th>\n",
       "      <th>75%</th>\n",
       "      <th>max</th>\n",
       "    </tr>\n",
       "    <tr>\n",
       "      <th>Crime_Rate</th>\n",
       "      <th></th>\n",
       "      <th></th>\n",
       "      <th></th>\n",
       "      <th></th>\n",
       "      <th></th>\n",
       "      <th></th>\n",
       "      <th></th>\n",
       "      <th></th>\n",
       "    </tr>\n",
       "  </thead>\n",
       "  <tbody>\n",
       "    <tr>\n",
       "      <th>Slightly above average</th>\n",
       "      <td>1421.0</td>\n",
       "      <td>2.954799</td>\n",
       "      <td>0.547597</td>\n",
       "      <td>0.71</td>\n",
       "      <td>2.6600</td>\n",
       "      <td>2.93</td>\n",
       "      <td>3.46</td>\n",
       "      <td>3.74</td>\n",
       "    </tr>\n",
       "    <tr>\n",
       "      <th>Slightly below average</th>\n",
       "      <td>3032.0</td>\n",
       "      <td>3.606705</td>\n",
       "      <td>0.548118</td>\n",
       "      <td>1.34</td>\n",
       "      <td>3.3875</td>\n",
       "      <td>3.59</td>\n",
       "      <td>4.13</td>\n",
       "      <td>4.37</td>\n",
       "    </tr>\n",
       "    <tr>\n",
       "      <th>Well above average</th>\n",
       "      <td>646.0</td>\n",
       "      <td>2.314133</td>\n",
       "      <td>0.539267</td>\n",
       "      <td>0.02</td>\n",
       "      <td>2.1025</td>\n",
       "      <td>2.29</td>\n",
       "      <td>2.82</td>\n",
       "      <td>3.11</td>\n",
       "    </tr>\n",
       "    <tr>\n",
       "      <th>Well below average</th>\n",
       "      <td>5189.0</td>\n",
       "      <td>4.195490</td>\n",
       "      <td>0.563830</td>\n",
       "      <td>1.89</td>\n",
       "      <td>3.8600</td>\n",
       "      <td>4.18</td>\n",
       "      <td>4.72</td>\n",
       "      <td>5.00</td>\n",
       "    </tr>\n",
       "  </tbody>\n",
       "</table>\n",
       "</div>"
      ],
      "text/plain": [
       "                         count      mean       std   min     25%   50%   75%  \\\n",
       "Crime_Rate                                                                     \n",
       "Slightly above average  1421.0  2.954799  0.547597  0.71  2.6600  2.93  3.46   \n",
       "Slightly below average  3032.0  3.606705  0.548118  1.34  3.3875  3.59  4.13   \n",
       "Well above average       646.0  2.314133  0.539267  0.02  2.1025  2.29  2.82   \n",
       "Well below average      5189.0  4.195490  0.563830  1.89  3.8600  4.18  4.72   \n",
       "\n",
       "                         max  \n",
       "Crime_Rate                    \n",
       "Slightly above average  3.74  \n",
       "Slightly below average  4.37  \n",
       "Well above average      3.11  \n",
       "Well below average      5.00  "
      ]
     },
     "execution_count": 198,
     "metadata": {},
     "output_type": "execute_result"
    }
   ],
   "source": [
    "house_test.groupby(['Crime_Rate'])['Neighborhood_Review'].describe()"
   ]
  },
  {
   "cell_type": "code",
   "execution_count": null,
   "id": "4832c434",
   "metadata": {},
   "outputs": [],
   "source": [
    "releIndex = house_test[(house_test['Crime_Rate'].isna()) & (house_test['Neighborhood_Review'] == 'Apartment')].index\n",
    "house_test.loc[releIndex,['Number_of_Windows']] = 2.0"
   ]
  }
 ],
 "metadata": {
  "kernelspec": {
   "display_name": "Python 3 (ipykernel)",
   "language": "python",
   "name": "python3"
  },
  "language_info": {
   "codemirror_mode": {
    "name": "ipython",
    "version": 3
   },
   "file_extension": ".py",
   "mimetype": "text/x-python",
   "name": "python",
   "nbconvert_exporter": "python",
   "pygments_lexer": "ipython3",
   "version": "3.9.7"
  }
 },
 "nbformat": 4,
 "nbformat_minor": 5
}
