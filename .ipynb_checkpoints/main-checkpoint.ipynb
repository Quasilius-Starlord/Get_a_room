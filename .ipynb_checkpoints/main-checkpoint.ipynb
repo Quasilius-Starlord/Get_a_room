{
 "cells": [
  {
   "cell_type": "code",
   "execution_count": 1,
   "id": "abc1ca3b",
   "metadata": {},
   "outputs": [],
   "source": [
    "import pandas as pd\n",
    "import numpy as np\n",
    "from sklearn.model_selection import train_test_split\n",
    "import matplotlib.pyplot as plt\n",
    "from sklearn.ensemble import RandomForestRegressor\n",
    "from sklearn import preprocessing\n",
    "\n",
    "path = './dataset/train.csv'\n",
    "house_data = pd.read_csv(path)"
   ]
  },
  {
   "cell_type": "code",
   "execution_count": 2,
   "id": "810d1e15",
   "metadata": {},
   "outputs": [
    {
     "data": {
      "text/html": [
       "<div>\n",
       "<style scoped>\n",
       "    .dataframe tbody tr th:only-of-type {\n",
       "        vertical-align: middle;\n",
       "    }\n",
       "\n",
       "    .dataframe tbody tr th {\n",
       "        vertical-align: top;\n",
       "    }\n",
       "\n",
       "    .dataframe thead th {\n",
       "        text-align: right;\n",
       "    }\n",
       "</style>\n",
       "<table border=\"1\" class=\"dataframe\">\n",
       "  <thead>\n",
       "    <tr style=\"text-align: right;\">\n",
       "      <th></th>\n",
       "      <th>Property_ID</th>\n",
       "      <th>Property_Type</th>\n",
       "      <th>Property_Area</th>\n",
       "      <th>Number_of_Windows</th>\n",
       "      <th>Number_of_Doors</th>\n",
       "      <th>Furnishing</th>\n",
       "      <th>Frequency_of_Powercuts</th>\n",
       "      <th>Power_Backup</th>\n",
       "      <th>Water_Supply</th>\n",
       "      <th>Traffic_Density_Score</th>\n",
       "      <th>Crime_Rate</th>\n",
       "      <th>Dust_and_Noise</th>\n",
       "      <th>Air_Quality_Index</th>\n",
       "      <th>Neighborhood_Review</th>\n",
       "      <th>Habitability_score</th>\n",
       "    </tr>\n",
       "  </thead>\n",
       "  <tbody>\n",
       "    <tr>\n",
       "      <th>0</th>\n",
       "      <td>0x21e3</td>\n",
       "      <td>Apartment</td>\n",
       "      <td>106</td>\n",
       "      <td>NaN</td>\n",
       "      <td>1</td>\n",
       "      <td>Semi_Furnished</td>\n",
       "      <td>0.0</td>\n",
       "      <td>No</td>\n",
       "      <td>Once in a day - Morning</td>\n",
       "      <td>5.89</td>\n",
       "      <td>Slightly below average</td>\n",
       "      <td>Medium</td>\n",
       "      <td>90.0</td>\n",
       "      <td>3.86</td>\n",
       "      <td>71.98</td>\n",
       "    </tr>\n",
       "    <tr>\n",
       "      <th>1</th>\n",
       "      <td>0x68d4</td>\n",
       "      <td>Apartment</td>\n",
       "      <td>733</td>\n",
       "      <td>2.0</td>\n",
       "      <td>2</td>\n",
       "      <td>Unfurnished</td>\n",
       "      <td>1.0</td>\n",
       "      <td>No</td>\n",
       "      <td>Once in a day - Evening</td>\n",
       "      <td>4.37</td>\n",
       "      <td>Well below average</td>\n",
       "      <td>Medium</td>\n",
       "      <td>96.0</td>\n",
       "      <td>3.55</td>\n",
       "      <td>71.20</td>\n",
       "    </tr>\n",
       "    <tr>\n",
       "      <th>2</th>\n",
       "      <td>0x7d81</td>\n",
       "      <td>Apartment</td>\n",
       "      <td>737</td>\n",
       "      <td>4.0</td>\n",
       "      <td>2</td>\n",
       "      <td>Fully Furnished</td>\n",
       "      <td>0.0</td>\n",
       "      <td>No</td>\n",
       "      <td>Once in a day - Morning</td>\n",
       "      <td>7.45</td>\n",
       "      <td>Slightly below average</td>\n",
       "      <td>Medium</td>\n",
       "      <td>121.0</td>\n",
       "      <td>3.81</td>\n",
       "      <td>71.39</td>\n",
       "    </tr>\n",
       "    <tr>\n",
       "      <th>3</th>\n",
       "      <td>0x7a57</td>\n",
       "      <td>Apartment</td>\n",
       "      <td>900</td>\n",
       "      <td>3.0</td>\n",
       "      <td>2</td>\n",
       "      <td>Unfurnished</td>\n",
       "      <td>2.0</td>\n",
       "      <td>Yes</td>\n",
       "      <td>Once in a day - Morning</td>\n",
       "      <td>6.16</td>\n",
       "      <td>Well above average</td>\n",
       "      <td>Medium</td>\n",
       "      <td>100.0</td>\n",
       "      <td>1.34</td>\n",
       "      <td>31.46</td>\n",
       "    </tr>\n",
       "    <tr>\n",
       "      <th>4</th>\n",
       "      <td>0x9409</td>\n",
       "      <td>Bungalow</td>\n",
       "      <td>2238</td>\n",
       "      <td>14.0</td>\n",
       "      <td>6</td>\n",
       "      <td>Fully Furnished</td>\n",
       "      <td>0.0</td>\n",
       "      <td>No</td>\n",
       "      <td>All time</td>\n",
       "      <td>5.46</td>\n",
       "      <td>Well below average</td>\n",
       "      <td>Medium</td>\n",
       "      <td>116.0</td>\n",
       "      <td>4.77</td>\n",
       "      <td>93.70</td>\n",
       "    </tr>\n",
       "  </tbody>\n",
       "</table>\n",
       "</div>"
      ],
      "text/plain": [
       "  Property_ID Property_Type  Property_Area  Number_of_Windows  \\\n",
       "0      0x21e3     Apartment            106                NaN   \n",
       "1      0x68d4     Apartment            733                2.0   \n",
       "2      0x7d81     Apartment            737                4.0   \n",
       "3      0x7a57     Apartment            900                3.0   \n",
       "4      0x9409      Bungalow           2238               14.0   \n",
       "\n",
       "   Number_of_Doors       Furnishing  Frequency_of_Powercuts Power_Backup  \\\n",
       "0                1   Semi_Furnished                     0.0           No   \n",
       "1                2      Unfurnished                     1.0           No   \n",
       "2                2  Fully Furnished                     0.0           No   \n",
       "3                2      Unfurnished                     2.0          Yes   \n",
       "4                6  Fully Furnished                     0.0           No   \n",
       "\n",
       "              Water_Supply  Traffic_Density_Score              Crime_Rate  \\\n",
       "0  Once in a day - Morning                   5.89  Slightly below average   \n",
       "1  Once in a day - Evening                   4.37      Well below average   \n",
       "2  Once in a day - Morning                   7.45  Slightly below average   \n",
       "3  Once in a day - Morning                   6.16      Well above average   \n",
       "4                 All time                   5.46      Well below average   \n",
       "\n",
       "  Dust_and_Noise  Air_Quality_Index  Neighborhood_Review  Habitability_score  \n",
       "0         Medium               90.0                 3.86               71.98  \n",
       "1         Medium               96.0                 3.55               71.20  \n",
       "2         Medium              121.0                 3.81               71.39  \n",
       "3         Medium              100.0                 1.34               31.46  \n",
       "4         Medium              116.0                 4.77               93.70  "
      ]
     },
     "execution_count": 2,
     "metadata": {},
     "output_type": "execute_result"
    }
   ],
   "source": [
    "house_data.head()"
   ]
  },
  {
   "cell_type": "markdown",
   "id": "280689d9",
   "metadata": {},
   "source": [
    "# Data Cleaning"
   ]
  },
  {
   "cell_type": "code",
   "execution_count": 3,
   "id": "616ac257",
   "metadata": {},
   "outputs": [
    {
     "data": {
      "text/html": [
       "<div>\n",
       "<style scoped>\n",
       "    .dataframe tbody tr th:only-of-type {\n",
       "        vertical-align: middle;\n",
       "    }\n",
       "\n",
       "    .dataframe tbody tr th {\n",
       "        vertical-align: top;\n",
       "    }\n",
       "\n",
       "    .dataframe thead th {\n",
       "        text-align: right;\n",
       "    }\n",
       "</style>\n",
       "<table border=\"1\" class=\"dataframe\">\n",
       "  <thead>\n",
       "    <tr style=\"text-align: right;\">\n",
       "      <th></th>\n",
       "      <th>Property_Area</th>\n",
       "      <th>Number_of_Windows</th>\n",
       "      <th>Number_of_Doors</th>\n",
       "      <th>Frequency_of_Powercuts</th>\n",
       "      <th>Traffic_Density_Score</th>\n",
       "      <th>Air_Quality_Index</th>\n",
       "      <th>Neighborhood_Review</th>\n",
       "      <th>Habitability_score</th>\n",
       "    </tr>\n",
       "  </thead>\n",
       "  <tbody>\n",
       "    <tr>\n",
       "      <th>count</th>\n",
       "      <td>39499.000000</td>\n",
       "      <td>37845.000000</td>\n",
       "      <td>39499.000000</td>\n",
       "      <td>38116.000000</td>\n",
       "      <td>39499.000000</td>\n",
       "      <td>39499.000000</td>\n",
       "      <td>39499.000000</td>\n",
       "      <td>39499.000000</td>\n",
       "    </tr>\n",
       "    <tr>\n",
       "      <th>mean</th>\n",
       "      <td>1391.715638</td>\n",
       "      <td>3.923768</td>\n",
       "      <td>2.331375</td>\n",
       "      <td>0.484678</td>\n",
       "      <td>6.354772</td>\n",
       "      <td>121.352566</td>\n",
       "      <td>3.735945</td>\n",
       "      <td>73.482297</td>\n",
       "    </tr>\n",
       "    <tr>\n",
       "      <th>std</th>\n",
       "      <td>1953.287544</td>\n",
       "      <td>2.690992</td>\n",
       "      <td>1.179964</td>\n",
       "      <td>0.752207</td>\n",
       "      <td>1.219681</td>\n",
       "      <td>62.384669</td>\n",
       "      <td>0.796843</td>\n",
       "      <td>14.118753</td>\n",
       "    </tr>\n",
       "    <tr>\n",
       "      <th>min</th>\n",
       "      <td>100.000000</td>\n",
       "      <td>0.000000</td>\n",
       "      <td>1.000000</td>\n",
       "      <td>0.000000</td>\n",
       "      <td>0.000000</td>\n",
       "      <td>0.000000</td>\n",
       "      <td>0.000000</td>\n",
       "      <td>7.280000</td>\n",
       "    </tr>\n",
       "    <tr>\n",
       "      <th>25%</th>\n",
       "      <td>494.000000</td>\n",
       "      <td>2.000000</td>\n",
       "      <td>1.000000</td>\n",
       "      <td>0.000000</td>\n",
       "      <td>5.600000</td>\n",
       "      <td>95.000000</td>\n",
       "      <td>3.220000</td>\n",
       "      <td>69.660000</td>\n",
       "    </tr>\n",
       "    <tr>\n",
       "      <th>50%</th>\n",
       "      <td>932.000000</td>\n",
       "      <td>4.000000</td>\n",
       "      <td>2.000000</td>\n",
       "      <td>0.000000</td>\n",
       "      <td>6.470000</td>\n",
       "      <td>113.000000</td>\n",
       "      <td>3.850000</td>\n",
       "      <td>75.760000</td>\n",
       "    </tr>\n",
       "    <tr>\n",
       "      <th>75%</th>\n",
       "      <td>1770.000000</td>\n",
       "      <td>5.000000</td>\n",
       "      <td>3.000000</td>\n",
       "      <td>1.000000</td>\n",
       "      <td>7.220000</td>\n",
       "      <td>140.000000</td>\n",
       "      <td>4.260000</td>\n",
       "      <td>82.260000</td>\n",
       "    </tr>\n",
       "    <tr>\n",
       "      <th>max</th>\n",
       "      <td>28064.000000</td>\n",
       "      <td>15.000000</td>\n",
       "      <td>6.000000</td>\n",
       "      <td>3.000000</td>\n",
       "      <td>9.910000</td>\n",
       "      <td>1044.000000</td>\n",
       "      <td>5.000000</td>\n",
       "      <td>100.000000</td>\n",
       "    </tr>\n",
       "  </tbody>\n",
       "</table>\n",
       "</div>"
      ],
      "text/plain": [
       "       Property_Area  Number_of_Windows  Number_of_Doors  \\\n",
       "count   39499.000000       37845.000000     39499.000000   \n",
       "mean     1391.715638           3.923768         2.331375   \n",
       "std      1953.287544           2.690992         1.179964   \n",
       "min       100.000000           0.000000         1.000000   \n",
       "25%       494.000000           2.000000         1.000000   \n",
       "50%       932.000000           4.000000         2.000000   \n",
       "75%      1770.000000           5.000000         3.000000   \n",
       "max     28064.000000          15.000000         6.000000   \n",
       "\n",
       "       Frequency_of_Powercuts  Traffic_Density_Score  Air_Quality_Index  \\\n",
       "count            38116.000000           39499.000000       39499.000000   \n",
       "mean                 0.484678               6.354772         121.352566   \n",
       "std                  0.752207               1.219681          62.384669   \n",
       "min                  0.000000               0.000000           0.000000   \n",
       "25%                  0.000000               5.600000          95.000000   \n",
       "50%                  0.000000               6.470000         113.000000   \n",
       "75%                  1.000000               7.220000         140.000000   \n",
       "max                  3.000000               9.910000        1044.000000   \n",
       "\n",
       "       Neighborhood_Review  Habitability_score  \n",
       "count         39499.000000        39499.000000  \n",
       "mean              3.735945           73.482297  \n",
       "std               0.796843           14.118753  \n",
       "min               0.000000            7.280000  \n",
       "25%               3.220000           69.660000  \n",
       "50%               3.850000           75.760000  \n",
       "75%               4.260000           82.260000  \n",
       "max               5.000000          100.000000  "
      ]
     },
     "execution_count": 3,
     "metadata": {},
     "output_type": "execute_result"
    }
   ],
   "source": [
    "house_data.describe()"
   ]
  },
  {
   "cell_type": "code",
   "execution_count": 4,
   "id": "f3e42e36",
   "metadata": {},
   "outputs": [
    {
     "data": {
      "text/plain": [
       "Property_ID                  0\n",
       "Property_Type                0\n",
       "Property_Area                0\n",
       "Number_of_Windows         1654\n",
       "Number_of_Doors              0\n",
       "Furnishing                1042\n",
       "Frequency_of_Powercuts    1383\n",
       "Power_Backup                 0\n",
       "Water_Supply                 0\n",
       "Traffic_Density_Score        0\n",
       "Crime_Rate                 787\n",
       "Dust_and_Noise            1219\n",
       "Air_Quality_Index            0\n",
       "Neighborhood_Review          0\n",
       "Habitability_score           0\n",
       "dtype: int64"
      ]
     },
     "execution_count": 4,
     "metadata": {},
     "output_type": "execute_result"
    }
   ],
   "source": [
    "house_data.isna().sum()"
   ]
  },
  {
   "cell_type": "code",
   "execution_count": 5,
   "id": "ed4cf8ed",
   "metadata": {},
   "outputs": [],
   "source": [
    "house_data['Number_of_Windows'] = house_data['Number_of_Windows'].fillna(4.000000)"
   ]
  },
  {
   "cell_type": "code",
   "execution_count": 6,
   "id": "63fec1ca",
   "metadata": {},
   "outputs": [],
   "source": [
    "house_data['Furnishing'] = house_data['Furnishing'].fillna('Semi_Furnished')"
   ]
  },
  {
   "cell_type": "code",
   "execution_count": 7,
   "id": "7a66b577",
   "metadata": {},
   "outputs": [],
   "source": [
    "house_data['Frequency_of_Powercuts'] = house_data['Frequency_of_Powercuts'].fillna(0.000000)"
   ]
  },
  {
   "cell_type": "code",
   "execution_count": 8,
   "id": "a359670c",
   "metadata": {},
   "outputs": [],
   "source": [
    "house_data['Crime_Rate'] = house_data['Crime_Rate'].fillna('Well below average')"
   ]
  },
  {
   "cell_type": "code",
   "execution_count": 9,
   "id": "cad85631",
   "metadata": {},
   "outputs": [],
   "source": [
    "house_data['Dust_and_Noise'] = house_data['Dust_and_Noise'].fillna('Medium')"
   ]
  },
  {
   "cell_type": "code",
   "execution_count": 10,
   "id": "24ab3552",
   "metadata": {},
   "outputs": [],
   "source": [
    "house_data['Water_Supply'] = house_data['Water_Supply'].replace('NOT MENTIONED','All time')"
   ]
  },
  {
   "cell_type": "code",
   "execution_count": 11,
   "id": "d666712f",
   "metadata": {},
   "outputs": [],
   "source": [
    "house_data['Property_Type'] = house_data['Property_Type'].replace('#R%$G&867', 'Apartment')"
   ]
  },
  {
   "cell_type": "code",
   "execution_count": 12,
   "id": "df847f47",
   "metadata": {},
   "outputs": [
    {
     "data": {
      "text/plain": [
       "Property_ID               0\n",
       "Property_Type             0\n",
       "Property_Area             0\n",
       "Number_of_Windows         0\n",
       "Number_of_Doors           0\n",
       "Furnishing                0\n",
       "Frequency_of_Powercuts    0\n",
       "Power_Backup              0\n",
       "Water_Supply              0\n",
       "Traffic_Density_Score     0\n",
       "Crime_Rate                0\n",
       "Dust_and_Noise            0\n",
       "Air_Quality_Index         0\n",
       "Neighborhood_Review       0\n",
       "Habitability_score        0\n",
       "dtype: int64"
      ]
     },
     "execution_count": 12,
     "metadata": {},
     "output_type": "execute_result"
    }
   ],
   "source": [
    "house_data.isna().sum()"
   ]
  },
  {
   "cell_type": "markdown",
   "id": "ed252a17",
   "metadata": {},
   "source": [
    "# Removed all NaN values and undesirable data"
   ]
  },
  {
   "cell_type": "markdown",
   "id": "3ff4af4a",
   "metadata": {},
   "source": [
    "# Remove all outliers"
   ]
  },
  {
   "cell_type": "code",
   "execution_count": 13,
   "id": "3b696bfe",
   "metadata": {},
   "outputs": [],
   "source": [
    "del house_data['Property_ID']"
   ]
  },
  {
   "cell_type": "code",
   "execution_count": 14,
   "id": "df8ad51a",
   "metadata": {},
   "outputs": [],
   "source": [
    "house_data['Air_Quality_Index'].mask(house_data['Air_Quality_Index'] > 500, 113.000000, inplace=True)"
   ]
  },
  {
   "cell_type": "markdown",
   "id": "73565907",
   "metadata": {},
   "source": [
    "# Change all non numerical value to integers in dataframe for Linear regression"
   ]
  },
  {
   "cell_type": "code",
   "execution_count": null,
   "id": "f266f360",
   "metadata": {},
   "outputs": [],
   "source": [
    "# le"
   ]
  },
  {
   "cell_type": "code",
   "execution_count": 15,
   "id": "2d58bfe0",
   "metadata": {},
   "outputs": [],
   "source": [
    "house_data['Property_Type'] = house_data['Property_Type'].replace(['Apartment', 'Bungalow', 'Single-family home', 'Duplex','Container Home'], [1,2,3,4,5])"
   ]
  },
  {
   "cell_type": "code",
   "execution_count": 16,
   "id": "15be04db",
   "metadata": {},
   "outputs": [],
   "source": [
    "house_data['Furnishing'] = house_data['Furnishing'].replace(['Semi_Furnished', 'Unfurnished', 'Fully Furnished'], [1,2,3])"
   ]
  },
  {
   "cell_type": "code",
   "execution_count": 17,
   "id": "a1e80146",
   "metadata": {},
   "outputs": [],
   "source": [
    "house_data['Water_Supply'] = house_data['Water_Supply'].replace(['Once in a day - Morning', 'Once in a day - Evening', 'All time','Once in two days'],[1,2,3,4])"
   ]
  },
  {
   "cell_type": "code",
   "execution_count": 18,
   "id": "63e7dfa1",
   "metadata": {},
   "outputs": [],
   "source": [
    "house_data['Crime_Rate'] = house_data['Crime_Rate'].replace(['Slightly below average', 'Well below average','Well above average', 'Slightly above average'], [1,2,3,4])"
   ]
  },
  {
   "cell_type": "code",
   "execution_count": 19,
   "id": "2ea7b9fa",
   "metadata": {},
   "outputs": [],
   "source": [
    "house_data['Power_Backup'] = house_data['Power_Backup'].replace(['No', 'Yes', 'NOT MENTIONED'],[-1,1,0])"
   ]
  },
  {
   "cell_type": "code",
   "execution_count": 20,
   "id": "5e29f3ec",
   "metadata": {},
   "outputs": [],
   "source": [
    "house_data['Dust_and_Noise'] = house_data['Dust_and_Noise'].replace(['Medium', 'High', 'Low'], [2,5,1])"
   ]
  },
  {
   "cell_type": "code",
   "execution_count": 21,
   "id": "d3a27249",
   "metadata": {},
   "outputs": [
    {
     "data": {
      "text/html": [
       "<div>\n",
       "<style scoped>\n",
       "    .dataframe tbody tr th:only-of-type {\n",
       "        vertical-align: middle;\n",
       "    }\n",
       "\n",
       "    .dataframe tbody tr th {\n",
       "        vertical-align: top;\n",
       "    }\n",
       "\n",
       "    .dataframe thead th {\n",
       "        text-align: right;\n",
       "    }\n",
       "</style>\n",
       "<table border=\"1\" class=\"dataframe\">\n",
       "  <thead>\n",
       "    <tr style=\"text-align: right;\">\n",
       "      <th></th>\n",
       "      <th>Property_Type</th>\n",
       "      <th>Property_Area</th>\n",
       "      <th>Number_of_Windows</th>\n",
       "      <th>Number_of_Doors</th>\n",
       "      <th>Furnishing</th>\n",
       "      <th>Frequency_of_Powercuts</th>\n",
       "      <th>Power_Backup</th>\n",
       "      <th>Water_Supply</th>\n",
       "      <th>Traffic_Density_Score</th>\n",
       "      <th>Crime_Rate</th>\n",
       "      <th>Dust_and_Noise</th>\n",
       "      <th>Air_Quality_Index</th>\n",
       "      <th>Neighborhood_Review</th>\n",
       "      <th>Habitability_score</th>\n",
       "    </tr>\n",
       "  </thead>\n",
       "  <tbody>\n",
       "    <tr>\n",
       "      <th>0</th>\n",
       "      <td>1</td>\n",
       "      <td>106</td>\n",
       "      <td>4.0</td>\n",
       "      <td>1</td>\n",
       "      <td>1</td>\n",
       "      <td>0.0</td>\n",
       "      <td>-1</td>\n",
       "      <td>1</td>\n",
       "      <td>5.89</td>\n",
       "      <td>1</td>\n",
       "      <td>2</td>\n",
       "      <td>90.0</td>\n",
       "      <td>3.86</td>\n",
       "      <td>71.98</td>\n",
       "    </tr>\n",
       "    <tr>\n",
       "      <th>1</th>\n",
       "      <td>1</td>\n",
       "      <td>733</td>\n",
       "      <td>2.0</td>\n",
       "      <td>2</td>\n",
       "      <td>2</td>\n",
       "      <td>1.0</td>\n",
       "      <td>-1</td>\n",
       "      <td>2</td>\n",
       "      <td>4.37</td>\n",
       "      <td>2</td>\n",
       "      <td>2</td>\n",
       "      <td>96.0</td>\n",
       "      <td>3.55</td>\n",
       "      <td>71.20</td>\n",
       "    </tr>\n",
       "    <tr>\n",
       "      <th>2</th>\n",
       "      <td>1</td>\n",
       "      <td>737</td>\n",
       "      <td>4.0</td>\n",
       "      <td>2</td>\n",
       "      <td>3</td>\n",
       "      <td>0.0</td>\n",
       "      <td>-1</td>\n",
       "      <td>1</td>\n",
       "      <td>7.45</td>\n",
       "      <td>1</td>\n",
       "      <td>2</td>\n",
       "      <td>121.0</td>\n",
       "      <td>3.81</td>\n",
       "      <td>71.39</td>\n",
       "    </tr>\n",
       "    <tr>\n",
       "      <th>3</th>\n",
       "      <td>1</td>\n",
       "      <td>900</td>\n",
       "      <td>3.0</td>\n",
       "      <td>2</td>\n",
       "      <td>2</td>\n",
       "      <td>2.0</td>\n",
       "      <td>1</td>\n",
       "      <td>1</td>\n",
       "      <td>6.16</td>\n",
       "      <td>3</td>\n",
       "      <td>2</td>\n",
       "      <td>100.0</td>\n",
       "      <td>1.34</td>\n",
       "      <td>31.46</td>\n",
       "    </tr>\n",
       "    <tr>\n",
       "      <th>4</th>\n",
       "      <td>2</td>\n",
       "      <td>2238</td>\n",
       "      <td>14.0</td>\n",
       "      <td>6</td>\n",
       "      <td>3</td>\n",
       "      <td>0.0</td>\n",
       "      <td>-1</td>\n",
       "      <td>3</td>\n",
       "      <td>5.46</td>\n",
       "      <td>2</td>\n",
       "      <td>2</td>\n",
       "      <td>116.0</td>\n",
       "      <td>4.77</td>\n",
       "      <td>93.70</td>\n",
       "    </tr>\n",
       "  </tbody>\n",
       "</table>\n",
       "</div>"
      ],
      "text/plain": [
       "   Property_Type  Property_Area  Number_of_Windows  Number_of_Doors  \\\n",
       "0              1            106                4.0                1   \n",
       "1              1            733                2.0                2   \n",
       "2              1            737                4.0                2   \n",
       "3              1            900                3.0                2   \n",
       "4              2           2238               14.0                6   \n",
       "\n",
       "   Furnishing  Frequency_of_Powercuts  Power_Backup  Water_Supply  \\\n",
       "0           1                     0.0            -1             1   \n",
       "1           2                     1.0            -1             2   \n",
       "2           3                     0.0            -1             1   \n",
       "3           2                     2.0             1             1   \n",
       "4           3                     0.0            -1             3   \n",
       "\n",
       "   Traffic_Density_Score  Crime_Rate  Dust_and_Noise  Air_Quality_Index  \\\n",
       "0                   5.89           1               2               90.0   \n",
       "1                   4.37           2               2               96.0   \n",
       "2                   7.45           1               2              121.0   \n",
       "3                   6.16           3               2              100.0   \n",
       "4                   5.46           2               2              116.0   \n",
       "\n",
       "   Neighborhood_Review  Habitability_score  \n",
       "0                 3.86               71.98  \n",
       "1                 3.55               71.20  \n",
       "2                 3.81               71.39  \n",
       "3                 1.34               31.46  \n",
       "4                 4.77               93.70  "
      ]
     },
     "execution_count": 21,
     "metadata": {},
     "output_type": "execute_result"
    }
   ],
   "source": [
    "house_data.head()"
   ]
  },
  {
   "cell_type": "markdown",
   "id": "a329fc1e",
   "metadata": {},
   "source": [
    "# Splitting for training and testing"
   ]
  },
  {
   "cell_type": "code",
   "execution_count": 22,
   "id": "939e92b3",
   "metadata": {},
   "outputs": [],
   "source": [
    "train_data, test_data = train_test_split(house_data, test_size=0.15, random_state=10)"
   ]
  },
  {
   "cell_type": "code",
   "execution_count": 23,
   "id": "032a8be3",
   "metadata": {},
   "outputs": [],
   "source": [
    "X = train_data[['Property_Type', 'Number_of_Windows','Number_of_Doors', 'Furnishing', 'Frequency_of_Powercuts','Power_Backup', 'Water_Supply', 'Traffic_Density_Score', 'Crime_Rate','Dust_and_Noise', 'Air_Quality_Index', 'Neighborhood_Review']]\n",
    "Y = train_data[['Habitability_score']]"
   ]
  },
  {
   "cell_type": "markdown",
   "id": "3ebc84f5",
   "metadata": {},
   "source": [
    "# Training model"
   ]
  },
  {
   "cell_type": "code",
   "execution_count": 24,
   "id": "ea961846",
   "metadata": {},
   "outputs": [],
   "source": [
    "forest_model = RandomForestRegressor(n_estimators=200, max_depth=7, min_samples_split=0.2, max_features=5)"
   ]
  },
  {
   "cell_type": "code",
   "execution_count": 25,
   "id": "77acb407",
   "metadata": {},
   "outputs": [
    {
     "data": {
      "text/plain": [
       "RandomForestRegressor(max_depth=7, max_features=5, min_samples_split=0.2,\n",
       "                      n_estimators=200)"
      ]
     },
     "execution_count": 25,
     "metadata": {},
     "output_type": "execute_result"
    }
   ],
   "source": [
    "forest_model.fit(X.loc[X.index].values.tolist(), Y.loc[Y.index].values.reshape(-1).tolist())"
   ]
  },
  {
   "cell_type": "code",
   "execution_count": 26,
   "id": "4aef5d68",
   "metadata": {},
   "outputs": [
    {
     "data": {
      "text/plain": [
       "Index(['Property_Type', 'Property_Area', 'Number_of_Windows',\n",
       "       'Number_of_Doors', 'Furnishing', 'Frequency_of_Powercuts',\n",
       "       'Power_Backup', 'Water_Supply', 'Traffic_Density_Score', 'Crime_Rate',\n",
       "       'Dust_and_Noise', 'Air_Quality_Index', 'Neighborhood_Review',\n",
       "       'Habitability_score'],\n",
       "      dtype='object')"
      ]
     },
     "execution_count": 26,
     "metadata": {},
     "output_type": "execute_result"
    }
   ],
   "source": [
    "test_data.columns"
   ]
  },
  {
   "cell_type": "code",
   "execution_count": 27,
   "id": "e80802ca",
   "metadata": {},
   "outputs": [],
   "source": [
    "x = test_data[['Property_Type', 'Number_of_Windows',\n",
    "       'Number_of_Doors', 'Furnishing', 'Frequency_of_Powercuts',\n",
    "       'Power_Backup', 'Water_Supply', 'Traffic_Density_Score', 'Crime_Rate',\n",
    "       'Dust_and_Noise', 'Air_Quality_Index', 'Neighborhood_Review']]"
   ]
  },
  {
   "cell_type": "code",
   "execution_count": 28,
   "id": "8e2e7779",
   "metadata": {},
   "outputs": [
    {
     "data": {
      "text/html": [
       "<div>\n",
       "<style scoped>\n",
       "    .dataframe tbody tr th:only-of-type {\n",
       "        vertical-align: middle;\n",
       "    }\n",
       "\n",
       "    .dataframe tbody tr th {\n",
       "        vertical-align: top;\n",
       "    }\n",
       "\n",
       "    .dataframe thead th {\n",
       "        text-align: right;\n",
       "    }\n",
       "</style>\n",
       "<table border=\"1\" class=\"dataframe\">\n",
       "  <thead>\n",
       "    <tr style=\"text-align: right;\">\n",
       "      <th></th>\n",
       "      <th>Property_Type</th>\n",
       "      <th>Number_of_Windows</th>\n",
       "      <th>Number_of_Doors</th>\n",
       "      <th>Furnishing</th>\n",
       "      <th>Frequency_of_Powercuts</th>\n",
       "      <th>Power_Backup</th>\n",
       "      <th>Water_Supply</th>\n",
       "      <th>Traffic_Density_Score</th>\n",
       "      <th>Crime_Rate</th>\n",
       "      <th>Dust_and_Noise</th>\n",
       "      <th>Air_Quality_Index</th>\n",
       "      <th>Neighborhood_Review</th>\n",
       "    </tr>\n",
       "  </thead>\n",
       "  <tbody>\n",
       "    <tr>\n",
       "      <th>3548</th>\n",
       "      <td>1</td>\n",
       "      <td>4.0</td>\n",
       "      <td>3</td>\n",
       "      <td>1</td>\n",
       "      <td>1.0</td>\n",
       "      <td>-1</td>\n",
       "      <td>2</td>\n",
       "      <td>6.09</td>\n",
       "      <td>2</td>\n",
       "      <td>2</td>\n",
       "      <td>138.0</td>\n",
       "      <td>3.49</td>\n",
       "    </tr>\n",
       "    <tr>\n",
       "      <th>38523</th>\n",
       "      <td>1</td>\n",
       "      <td>2.0</td>\n",
       "      <td>1</td>\n",
       "      <td>2</td>\n",
       "      <td>0.0</td>\n",
       "      <td>-1</td>\n",
       "      <td>2</td>\n",
       "      <td>6.47</td>\n",
       "      <td>2</td>\n",
       "      <td>2</td>\n",
       "      <td>110.0</td>\n",
       "      <td>4.15</td>\n",
       "    </tr>\n",
       "    <tr>\n",
       "      <th>7282</th>\n",
       "      <td>3</td>\n",
       "      <td>4.0</td>\n",
       "      <td>1</td>\n",
       "      <td>1</td>\n",
       "      <td>0.0</td>\n",
       "      <td>-1</td>\n",
       "      <td>2</td>\n",
       "      <td>5.06</td>\n",
       "      <td>1</td>\n",
       "      <td>2</td>\n",
       "      <td>87.0</td>\n",
       "      <td>3.56</td>\n",
       "    </tr>\n",
       "    <tr>\n",
       "      <th>38291</th>\n",
       "      <td>1</td>\n",
       "      <td>2.0</td>\n",
       "      <td>1</td>\n",
       "      <td>3</td>\n",
       "      <td>0.0</td>\n",
       "      <td>1</td>\n",
       "      <td>2</td>\n",
       "      <td>7.52</td>\n",
       "      <td>2</td>\n",
       "      <td>2</td>\n",
       "      <td>156.0</td>\n",
       "      <td>4.08</td>\n",
       "    </tr>\n",
       "    <tr>\n",
       "      <th>27240</th>\n",
       "      <td>1</td>\n",
       "      <td>4.0</td>\n",
       "      <td>2</td>\n",
       "      <td>1</td>\n",
       "      <td>0.0</td>\n",
       "      <td>-1</td>\n",
       "      <td>3</td>\n",
       "      <td>4.28</td>\n",
       "      <td>1</td>\n",
       "      <td>2</td>\n",
       "      <td>91.0</td>\n",
       "      <td>4.18</td>\n",
       "    </tr>\n",
       "    <tr>\n",
       "      <th>...</th>\n",
       "      <td>...</td>\n",
       "      <td>...</td>\n",
       "      <td>...</td>\n",
       "      <td>...</td>\n",
       "      <td>...</td>\n",
       "      <td>...</td>\n",
       "      <td>...</td>\n",
       "      <td>...</td>\n",
       "      <td>...</td>\n",
       "      <td>...</td>\n",
       "      <td>...</td>\n",
       "      <td>...</td>\n",
       "    </tr>\n",
       "    <tr>\n",
       "      <th>7583</th>\n",
       "      <td>5</td>\n",
       "      <td>0.0</td>\n",
       "      <td>1</td>\n",
       "      <td>1</td>\n",
       "      <td>0.0</td>\n",
       "      <td>-1</td>\n",
       "      <td>1</td>\n",
       "      <td>8.31</td>\n",
       "      <td>4</td>\n",
       "      <td>5</td>\n",
       "      <td>197.0</td>\n",
       "      <td>3.02</td>\n",
       "    </tr>\n",
       "    <tr>\n",
       "      <th>33162</th>\n",
       "      <td>1</td>\n",
       "      <td>1.0</td>\n",
       "      <td>1</td>\n",
       "      <td>1</td>\n",
       "      <td>0.0</td>\n",
       "      <td>-1</td>\n",
       "      <td>1</td>\n",
       "      <td>8.22</td>\n",
       "      <td>2</td>\n",
       "      <td>5</td>\n",
       "      <td>166.0</td>\n",
       "      <td>4.32</td>\n",
       "    </tr>\n",
       "    <tr>\n",
       "      <th>28915</th>\n",
       "      <td>3</td>\n",
       "      <td>3.0</td>\n",
       "      <td>4</td>\n",
       "      <td>1</td>\n",
       "      <td>0.0</td>\n",
       "      <td>-1</td>\n",
       "      <td>2</td>\n",
       "      <td>7.77</td>\n",
       "      <td>2</td>\n",
       "      <td>2</td>\n",
       "      <td>113.0</td>\n",
       "      <td>4.14</td>\n",
       "    </tr>\n",
       "    <tr>\n",
       "      <th>14902</th>\n",
       "      <td>1</td>\n",
       "      <td>4.0</td>\n",
       "      <td>3</td>\n",
       "      <td>3</td>\n",
       "      <td>1.0</td>\n",
       "      <td>-1</td>\n",
       "      <td>1</td>\n",
       "      <td>7.49</td>\n",
       "      <td>2</td>\n",
       "      <td>2</td>\n",
       "      <td>145.0</td>\n",
       "      <td>3.78</td>\n",
       "    </tr>\n",
       "    <tr>\n",
       "      <th>15162</th>\n",
       "      <td>5</td>\n",
       "      <td>0.0</td>\n",
       "      <td>1</td>\n",
       "      <td>1</td>\n",
       "      <td>0.0</td>\n",
       "      <td>-1</td>\n",
       "      <td>3</td>\n",
       "      <td>8.06</td>\n",
       "      <td>4</td>\n",
       "      <td>5</td>\n",
       "      <td>136.0</td>\n",
       "      <td>3.41</td>\n",
       "    </tr>\n",
       "  </tbody>\n",
       "</table>\n",
       "<p>5925 rows × 12 columns</p>\n",
       "</div>"
      ],
      "text/plain": [
       "       Property_Type  Number_of_Windows  Number_of_Doors  Furnishing  \\\n",
       "3548               1                4.0                3           1   \n",
       "38523              1                2.0                1           2   \n",
       "7282               3                4.0                1           1   \n",
       "38291              1                2.0                1           3   \n",
       "27240              1                4.0                2           1   \n",
       "...              ...                ...              ...         ...   \n",
       "7583               5                0.0                1           1   \n",
       "33162              1                1.0                1           1   \n",
       "28915              3                3.0                4           1   \n",
       "14902              1                4.0                3           3   \n",
       "15162              5                0.0                1           1   \n",
       "\n",
       "       Frequency_of_Powercuts  Power_Backup  Water_Supply  \\\n",
       "3548                      1.0            -1             2   \n",
       "38523                     0.0            -1             2   \n",
       "7282                      0.0            -1             2   \n",
       "38291                     0.0             1             2   \n",
       "27240                     0.0            -1             3   \n",
       "...                       ...           ...           ...   \n",
       "7583                      0.0            -1             1   \n",
       "33162                     0.0            -1             1   \n",
       "28915                     0.0            -1             2   \n",
       "14902                     1.0            -1             1   \n",
       "15162                     0.0            -1             3   \n",
       "\n",
       "       Traffic_Density_Score  Crime_Rate  Dust_and_Noise  Air_Quality_Index  \\\n",
       "3548                    6.09           2               2              138.0   \n",
       "38523                   6.47           2               2              110.0   \n",
       "7282                    5.06           1               2               87.0   \n",
       "38291                   7.52           2               2              156.0   \n",
       "27240                   4.28           1               2               91.0   \n",
       "...                      ...         ...             ...                ...   \n",
       "7583                    8.31           4               5              197.0   \n",
       "33162                   8.22           2               5              166.0   \n",
       "28915                   7.77           2               2              113.0   \n",
       "14902                   7.49           2               2              145.0   \n",
       "15162                   8.06           4               5              136.0   \n",
       "\n",
       "       Neighborhood_Review  \n",
       "3548                  3.49  \n",
       "38523                 4.15  \n",
       "7282                  3.56  \n",
       "38291                 4.08  \n",
       "27240                 4.18  \n",
       "...                    ...  \n",
       "7583                  3.02  \n",
       "33162                 4.32  \n",
       "28915                 4.14  \n",
       "14902                 3.78  \n",
       "15162                 3.41  \n",
       "\n",
       "[5925 rows x 12 columns]"
      ]
     },
     "execution_count": 28,
     "metadata": {},
     "output_type": "execute_result"
    }
   ],
   "source": [
    "x"
   ]
  },
  {
   "cell_type": "code",
   "execution_count": 29,
   "id": "b4fc3ba8",
   "metadata": {},
   "outputs": [],
   "source": [
    "y=test_data[['Habitability_score']]"
   ]
  },
  {
   "cell_type": "code",
   "execution_count": 30,
   "id": "c749d97c",
   "metadata": {},
   "outputs": [
    {
     "data": {
      "text/html": [
       "<div>\n",
       "<style scoped>\n",
       "    .dataframe tbody tr th:only-of-type {\n",
       "        vertical-align: middle;\n",
       "    }\n",
       "\n",
       "    .dataframe tbody tr th {\n",
       "        vertical-align: top;\n",
       "    }\n",
       "\n",
       "    .dataframe thead th {\n",
       "        text-align: right;\n",
       "    }\n",
       "</style>\n",
       "<table border=\"1\" class=\"dataframe\">\n",
       "  <thead>\n",
       "    <tr style=\"text-align: right;\">\n",
       "      <th></th>\n",
       "      <th>Habitability_score</th>\n",
       "    </tr>\n",
       "  </thead>\n",
       "  <tbody>\n",
       "    <tr>\n",
       "      <th>3548</th>\n",
       "      <td>71.60</td>\n",
       "    </tr>\n",
       "    <tr>\n",
       "      <th>38523</th>\n",
       "      <td>58.69</td>\n",
       "    </tr>\n",
       "    <tr>\n",
       "      <th>7282</th>\n",
       "      <td>68.90</td>\n",
       "    </tr>\n",
       "    <tr>\n",
       "      <th>38291</th>\n",
       "      <td>94.13</td>\n",
       "    </tr>\n",
       "    <tr>\n",
       "      <th>27240</th>\n",
       "      <td>68.88</td>\n",
       "    </tr>\n",
       "    <tr>\n",
       "      <th>...</th>\n",
       "      <td>...</td>\n",
       "    </tr>\n",
       "    <tr>\n",
       "      <th>7583</th>\n",
       "      <td>46.07</td>\n",
       "    </tr>\n",
       "    <tr>\n",
       "      <th>33162</th>\n",
       "      <td>86.26</td>\n",
       "    </tr>\n",
       "    <tr>\n",
       "      <th>28915</th>\n",
       "      <td>77.94</td>\n",
       "    </tr>\n",
       "    <tr>\n",
       "      <th>14902</th>\n",
       "      <td>78.49</td>\n",
       "    </tr>\n",
       "    <tr>\n",
       "      <th>15162</th>\n",
       "      <td>72.91</td>\n",
       "    </tr>\n",
       "  </tbody>\n",
       "</table>\n",
       "<p>5925 rows × 1 columns</p>\n",
       "</div>"
      ],
      "text/plain": [
       "       Habitability_score\n",
       "3548                71.60\n",
       "38523               58.69\n",
       "7282                68.90\n",
       "38291               94.13\n",
       "27240               68.88\n",
       "...                   ...\n",
       "7583                46.07\n",
       "33162               86.26\n",
       "28915               77.94\n",
       "14902               78.49\n",
       "15162               72.91\n",
       "\n",
       "[5925 rows x 1 columns]"
      ]
     },
     "execution_count": 30,
     "metadata": {},
     "output_type": "execute_result"
    }
   ],
   "source": [
    "y"
   ]
  },
  {
   "cell_type": "code",
   "execution_count": 31,
   "id": "1ea17069",
   "metadata": {},
   "outputs": [],
   "source": [
    "p=forest_model.predict(x.loc[x.index].values.tolist())"
   ]
  },
  {
   "cell_type": "code",
   "execution_count": 32,
   "id": "b6b4d928",
   "metadata": {},
   "outputs": [
    {
     "data": {
      "text/plain": [
       "array([74.13643279, 74.22658397, 73.83506805, ..., 78.02277684,\n",
       "       78.83375259, 64.29459769])"
      ]
     },
     "execution_count": 32,
     "metadata": {},
     "output_type": "execute_result"
    }
   ],
   "source": [
    "p"
   ]
  },
  {
   "cell_type": "code",
   "execution_count": 33,
   "id": "6b1e3bc9",
   "metadata": {},
   "outputs": [],
   "source": [
    "from sklearn.metrics import r2_score"
   ]
  },
  {
   "cell_type": "code",
   "execution_count": 34,
   "id": "42e81a33",
   "metadata": {},
   "outputs": [],
   "source": [
    "e = y.loc[y.index].values.reshape(-1).tolist()"
   ]
  },
  {
   "cell_type": "code",
   "execution_count": 35,
   "id": "9e52486d",
   "metadata": {},
   "outputs": [
    {
     "data": {
      "text/plain": [
       "0.3642916087911722"
      ]
     },
     "execution_count": 35,
     "metadata": {},
     "output_type": "execute_result"
    }
   ],
   "source": [
    "r2_score(e, p)"
   ]
  },
  {
   "cell_type": "code",
   "execution_count": 36,
   "id": "d65d58a4",
   "metadata": {},
   "outputs": [
    {
     "data": {
      "text/plain": [
       "Index(['Property_Type', 'Property_Area', 'Number_of_Windows',\n",
       "       'Number_of_Doors', 'Furnishing', 'Frequency_of_Powercuts',\n",
       "       'Power_Backup', 'Water_Supply', 'Traffic_Density_Score', 'Crime_Rate',\n",
       "       'Dust_and_Noise', 'Air_Quality_Index', 'Neighborhood_Review',\n",
       "       'Habitability_score'],\n",
       "      dtype='object')"
      ]
     },
     "execution_count": 36,
     "metadata": {},
     "output_type": "execute_result"
    }
   ],
   "source": [
    "train_data.columns"
   ]
  },
  {
   "cell_type": "code",
   "execution_count": 37,
   "id": "9044b8b6",
   "metadata": {},
   "outputs": [
    {
     "data": {
      "text/plain": [
       "<AxesSubplot:xlabel='Neighborhood_Review', ylabel='Habitability_score'>"
      ]
     },
     "execution_count": 37,
     "metadata": {},
     "output_type": "execute_result"
    },
    {
     "data": {
      "image/png": "[encoded data removed]",
      "text/plain": [
       "<Figure size 1440x720 with 1 Axes>"
      ]
     },
     "metadata": {
      "needs_background": "light"
     },
     "output_type": "display_data"
    }
   ],
   "source": [
    "train_data[['Neighborhood_Review', 'Habitability_score']][:25000].plot(kind='scatter', x='Neighborhood_Review', y='Habitability_score', figsize=(20,10))"
   ]
  },
  {
   "cell_type": "code",
   "execution_count": 38,
   "id": "5fdc4d3c",
   "metadata": {},
   "outputs": [],
   "source": [
    "import xgboost as xgb"
   ]
  },
  {
   "cell_type": "code",
   "execution_count": 39,
   "id": "ca8733eb",
   "metadata": {},
   "outputs": [],
   "source": [
    "xgb_model = xgb.XGBRegressor()"
   ]
  },
  {
   "cell_type": "code",
   "execution_count": 40,
   "id": "e405e744",
   "metadata": {},
   "outputs": [
    {
     "data": {
      "text/plain": [
       "XGBRegressor(base_score=0.5, booster='gbtree', callbacks=None,\n",
       "             colsample_bylevel=1, colsample_bynode=1, colsample_bytree=1,\n",
       "             early_stopping_rounds=None, enable_categorical=False,\n",
       "             eval_metric=None, gamma=0, gpu_id=-1, grow_policy='depthwise',\n",
       "             importance_type=None, interaction_constraints='',\n",
       "             learning_rate=0.300000012, max_bin=256, max_cat_to_onehot=4,\n",
       "             max_delta_step=0, max_depth=6, max_leaves=0, min_child_weight=1,\n",
       "             missing=nan, monotone_constraints='()', n_estimators=100, n_jobs=0,\n",
       "             num_parallel_tree=1, predictor='auto', random_state=0, reg_alpha=0,\n",
       "             reg_lambda=1, ...)"
      ]
     },
     "execution_count": 40,
     "metadata": {},
     "output_type": "execute_result"
    }
   ],
   "source": [
    "xgb_model.fit(X.loc[X.index].values.tolist(), Y.loc[Y.index].values.reshape(-1).tolist())"
   ]
  },
  {
   "cell_type": "code",
   "execution_count": 41,
   "id": "7127076e",
   "metadata": {},
   "outputs": [],
   "source": [
    "p = xgb_model.predict(x.loc[x.index].values.tolist())"
   ]
  },
  {
   "cell_type": "code",
   "execution_count": 42,
   "id": "add0f844",
   "metadata": {},
   "outputs": [
    {
     "data": {
      "text/plain": [
       "array([74.52756 , 67.91241 , 75.403244, ..., 79.00509 , 75.438095,\n",
       "       64.17899 ], dtype=float32)"
      ]
     },
     "execution_count": 42,
     "metadata": {},
     "output_type": "execute_result"
    }
   ],
   "source": [
    "p"
   ]
  },
  {
   "cell_type": "code",
   "execution_count": 43,
   "id": "a685a9a3",
   "metadata": {},
   "outputs": [
    {
     "data": {
      "text/plain": [
       "0.7898725200202785"
      ]
     },
     "execution_count": 43,
     "metadata": {},
     "output_type": "execute_result"
    }
   ],
   "source": [
    "r2_score(e, p)"
   ]
  },
  {
   "cell_type": "code",
   "execution_count": 44,
   "id": "1a20ef48",
   "metadata": {},
   "outputs": [],
   "source": []
  },
  {
   "cell_type": "code",
   "execution_count": 45,
   "id": "eb2fd8c8",
   "metadata": {},
   "outputs": [],
   "source": [
    "data = pd.read_csv(path)"
   ]
  },
  {
   "cell_type": "code",
   "execution_count": 47,
   "id": "1d25d908",
   "metadata": {},
   "outputs": [],
   "source": [
    "del data['Property_ID']"
   ]
  },
  {
   "cell_type": "code",
   "execution_count": 48,
   "id": "15942671",
   "metadata": {},
   "outputs": [
    {
     "data": {
      "text/html": [
       "<div>\n",
       "<style scoped>\n",
       "    .dataframe tbody tr th:only-of-type {\n",
       "        vertical-align: middle;\n",
       "    }\n",
       "\n",
       "    .dataframe tbody tr th {\n",
       "        vertical-align: top;\n",
       "    }\n",
       "\n",
       "    .dataframe thead th {\n",
       "        text-align: right;\n",
       "    }\n",
       "</style>\n",
       "<table border=\"1\" class=\"dataframe\">\n",
       "  <thead>\n",
       "    <tr style=\"text-align: right;\">\n",
       "      <th></th>\n",
       "      <th>Property_Type</th>\n",
       "      <th>Property_Area</th>\n",
       "      <th>Number_of_Windows</th>\n",
       "      <th>Number_of_Doors</th>\n",
       "      <th>Furnishing</th>\n",
       "      <th>Frequency_of_Powercuts</th>\n",
       "      <th>Power_Backup</th>\n",
       "      <th>Water_Supply</th>\n",
       "      <th>Traffic_Density_Score</th>\n",
       "      <th>Crime_Rate</th>\n",
       "      <th>Dust_and_Noise</th>\n",
       "      <th>Air_Quality_Index</th>\n",
       "      <th>Neighborhood_Review</th>\n",
       "      <th>Habitability_score</th>\n",
       "    </tr>\n",
       "  </thead>\n",
       "  <tbody>\n",
       "    <tr>\n",
       "      <th>0</th>\n",
       "      <td>Apartment</td>\n",
       "      <td>106</td>\n",
       "      <td>NaN</td>\n",
       "      <td>1</td>\n",
       "      <td>Semi_Furnished</td>\n",
       "      <td>0.0</td>\n",
       "      <td>No</td>\n",
       "      <td>Once in a day - Morning</td>\n",
       "      <td>5.89</td>\n",
       "      <td>Slightly below average</td>\n",
       "      <td>Medium</td>\n",
       "      <td>90.0</td>\n",
       "      <td>3.86</td>\n",
       "      <td>71.98</td>\n",
       "    </tr>\n",
       "    <tr>\n",
       "      <th>1</th>\n",
       "      <td>Apartment</td>\n",
       "      <td>733</td>\n",
       "      <td>2.0</td>\n",
       "      <td>2</td>\n",
       "      <td>Unfurnished</td>\n",
       "      <td>1.0</td>\n",
       "      <td>No</td>\n",
       "      <td>Once in a day - Evening</td>\n",
       "      <td>4.37</td>\n",
       "      <td>Well below average</td>\n",
       "      <td>Medium</td>\n",
       "      <td>96.0</td>\n",
       "      <td>3.55</td>\n",
       "      <td>71.20</td>\n",
       "    </tr>\n",
       "    <tr>\n",
       "      <th>2</th>\n",
       "      <td>Apartment</td>\n",
       "      <td>737</td>\n",
       "      <td>4.0</td>\n",
       "      <td>2</td>\n",
       "      <td>Fully Furnished</td>\n",
       "      <td>0.0</td>\n",
       "      <td>No</td>\n",
       "      <td>Once in a day - Morning</td>\n",
       "      <td>7.45</td>\n",
       "      <td>Slightly below average</td>\n",
       "      <td>Medium</td>\n",
       "      <td>121.0</td>\n",
       "      <td>3.81</td>\n",
       "      <td>71.39</td>\n",
       "    </tr>\n",
       "    <tr>\n",
       "      <th>3</th>\n",
       "      <td>Apartment</td>\n",
       "      <td>900</td>\n",
       "      <td>3.0</td>\n",
       "      <td>2</td>\n",
       "      <td>Unfurnished</td>\n",
       "      <td>2.0</td>\n",
       "      <td>Yes</td>\n",
       "      <td>Once in a day - Morning</td>\n",
       "      <td>6.16</td>\n",
       "      <td>Well above average</td>\n",
       "      <td>Medium</td>\n",
       "      <td>100.0</td>\n",
       "      <td>1.34</td>\n",
       "      <td>31.46</td>\n",
       "    </tr>\n",
       "    <tr>\n",
       "      <th>4</th>\n",
       "      <td>Bungalow</td>\n",
       "      <td>2238</td>\n",
       "      <td>14.0</td>\n",
       "      <td>6</td>\n",
       "      <td>Fully Furnished</td>\n",
       "      <td>0.0</td>\n",
       "      <td>No</td>\n",
       "      <td>All time</td>\n",
       "      <td>5.46</td>\n",
       "      <td>Well below average</td>\n",
       "      <td>Medium</td>\n",
       "      <td>116.0</td>\n",
       "      <td>4.77</td>\n",
       "      <td>93.70</td>\n",
       "    </tr>\n",
       "  </tbody>\n",
       "</table>\n",
       "</div>"
      ],
      "text/plain": [
       "  Property_Type  Property_Area  Number_of_Windows  Number_of_Doors  \\\n",
       "0     Apartment            106                NaN                1   \n",
       "1     Apartment            733                2.0                2   \n",
       "2     Apartment            737                4.0                2   \n",
       "3     Apartment            900                3.0                2   \n",
       "4      Bungalow           2238               14.0                6   \n",
       "\n",
       "        Furnishing  Frequency_of_Powercuts Power_Backup  \\\n",
       "0   Semi_Furnished                     0.0           No   \n",
       "1      Unfurnished                     1.0           No   \n",
       "2  Fully Furnished                     0.0           No   \n",
       "3      Unfurnished                     2.0          Yes   \n",
       "4  Fully Furnished                     0.0           No   \n",
       "\n",
       "              Water_Supply  Traffic_Density_Score              Crime_Rate  \\\n",
       "0  Once in a day - Morning                   5.89  Slightly below average   \n",
       "1  Once in a day - Evening                   4.37      Well below average   \n",
       "2  Once in a day - Morning                   7.45  Slightly below average   \n",
       "3  Once in a day - Morning                   6.16      Well above average   \n",
       "4                 All time                   5.46      Well below average   \n",
       "\n",
       "  Dust_and_Noise  Air_Quality_Index  Neighborhood_Review  Habitability_score  \n",
       "0         Medium               90.0                 3.86               71.98  \n",
       "1         Medium               96.0                 3.55               71.20  \n",
       "2         Medium              121.0                 3.81               71.39  \n",
       "3         Medium              100.0                 1.34               31.46  \n",
       "4         Medium              116.0                 4.77               93.70  "
      ]
     },
     "execution_count": 48,
     "metadata": {},
     "output_type": "execute_result"
    }
   ],
   "source": [
    "data.head()"
   ]
  },
  {
   "cell_type": "code",
   "execution_count": 53,
   "id": "abdf75af",
   "metadata": {},
   "outputs": [
    {
     "name": "stdout",
     "output_type": "stream",
     "text": [
      "[1 1 1 ... 2 5 5]\n"
     ]
    }
   ],
   "source": [
    "le = preprocessing.LabelEncoder()\n",
    "print(le.fit_transform(data['Property_Type']))"
   ]
  },
  {
   "cell_type": "code",
   "execution_count": 54,
   "id": "0c4b6446",
   "metadata": {},
   "outputs": [
    {
     "data": {
      "text/html": [
       "<div>\n",
       "<style scoped>\n",
       "    .dataframe tbody tr th:only-of-type {\n",
       "        vertical-align: middle;\n",
       "    }\n",
       "\n",
       "    .dataframe tbody tr th {\n",
       "        vertical-align: top;\n",
       "    }\n",
       "\n",
       "    .dataframe thead th {\n",
       "        text-align: right;\n",
       "    }\n",
       "</style>\n",
       "<table border=\"1\" class=\"dataframe\">\n",
       "  <thead>\n",
       "    <tr style=\"text-align: right;\">\n",
       "      <th></th>\n",
       "      <th>Property_Type</th>\n",
       "      <th>Property_Area</th>\n",
       "      <th>Number_of_Windows</th>\n",
       "      <th>Number_of_Doors</th>\n",
       "      <th>Furnishing</th>\n",
       "      <th>Frequency_of_Powercuts</th>\n",
       "      <th>Power_Backup</th>\n",
       "      <th>Water_Supply</th>\n",
       "      <th>Traffic_Density_Score</th>\n",
       "      <th>Crime_Rate</th>\n",
       "      <th>Dust_and_Noise</th>\n",
       "      <th>Air_Quality_Index</th>\n",
       "      <th>Neighborhood_Review</th>\n",
       "      <th>Habitability_score</th>\n",
       "    </tr>\n",
       "  </thead>\n",
       "  <tbody>\n",
       "    <tr>\n",
       "      <th>39494</th>\n",
       "      <td>Single-family home</td>\n",
       "      <td>1120</td>\n",
       "      <td>3.0</td>\n",
       "      <td>2</td>\n",
       "      <td>NaN</td>\n",
       "      <td>0.0</td>\n",
       "      <td>No</td>\n",
       "      <td>All time</td>\n",
       "      <td>5.55</td>\n",
       "      <td>Slightly above average</td>\n",
       "      <td>Medium</td>\n",
       "      <td>80.0</td>\n",
       "      <td>3.56</td>\n",
       "      <td>73.43</td>\n",
       "    </tr>\n",
       "    <tr>\n",
       "      <th>39495</th>\n",
       "      <td>Apartment</td>\n",
       "      <td>445</td>\n",
       "      <td>1.0</td>\n",
       "      <td>3</td>\n",
       "      <td>Fully Furnished</td>\n",
       "      <td>1.0</td>\n",
       "      <td>No</td>\n",
       "      <td>All time</td>\n",
       "      <td>5.70</td>\n",
       "      <td>Slightly above average</td>\n",
       "      <td>Medium</td>\n",
       "      <td>86.0</td>\n",
       "      <td>2.93</td>\n",
       "      <td>79.91</td>\n",
       "    </tr>\n",
       "    <tr>\n",
       "      <th>39496</th>\n",
       "      <td>Bungalow</td>\n",
       "      <td>3780</td>\n",
       "      <td>6.0</td>\n",
       "      <td>6</td>\n",
       "      <td>Unfurnished</td>\n",
       "      <td>0.0</td>\n",
       "      <td>Yes</td>\n",
       "      <td>Once in two days</td>\n",
       "      <td>6.84</td>\n",
       "      <td>Well below average</td>\n",
       "      <td>Medium</td>\n",
       "      <td>137.0</td>\n",
       "      <td>3.80</td>\n",
       "      <td>81.44</td>\n",
       "    </tr>\n",
       "    <tr>\n",
       "      <th>39497</th>\n",
       "      <td>Single-family home</td>\n",
       "      <td>1266</td>\n",
       "      <td>3.0</td>\n",
       "      <td>1</td>\n",
       "      <td>Semi_Furnished</td>\n",
       "      <td>0.0</td>\n",
       "      <td>No</td>\n",
       "      <td>Once in a day - Morning</td>\n",
       "      <td>4.60</td>\n",
       "      <td>Slightly above average</td>\n",
       "      <td>NaN</td>\n",
       "      <td>88.0</td>\n",
       "      <td>3.25</td>\n",
       "      <td>71.33</td>\n",
       "    </tr>\n",
       "    <tr>\n",
       "      <th>39498</th>\n",
       "      <td>Single-family home</td>\n",
       "      <td>1229</td>\n",
       "      <td>2.0</td>\n",
       "      <td>4</td>\n",
       "      <td>Fully Furnished</td>\n",
       "      <td>0.0</td>\n",
       "      <td>No</td>\n",
       "      <td>All time</td>\n",
       "      <td>8.29</td>\n",
       "      <td>Well below average</td>\n",
       "      <td>High</td>\n",
       "      <td>132.0</td>\n",
       "      <td>4.67</td>\n",
       "      <td>83.25</td>\n",
       "    </tr>\n",
       "  </tbody>\n",
       "</table>\n",
       "</div>"
      ],
      "text/plain": [
       "            Property_Type  Property_Area  Number_of_Windows  Number_of_Doors  \\\n",
       "39494  Single-family home           1120                3.0                2   \n",
       "39495           Apartment            445                1.0                3   \n",
       "39496            Bungalow           3780                6.0                6   \n",
       "39497  Single-family home           1266                3.0                1   \n",
       "39498  Single-family home           1229                2.0                4   \n",
       "\n",
       "            Furnishing  Frequency_of_Powercuts Power_Backup  \\\n",
       "39494              NaN                     0.0           No   \n",
       "39495  Fully Furnished                     1.0           No   \n",
       "39496      Unfurnished                     0.0          Yes   \n",
       "39497   Semi_Furnished                     0.0           No   \n",
       "39498  Fully Furnished                     0.0           No   \n",
       "\n",
       "                  Water_Supply  Traffic_Density_Score              Crime_Rate  \\\n",
       "39494                 All time                   5.55  Slightly above average   \n",
       "39495                 All time                   5.70  Slightly above average   \n",
       "39496         Once in two days                   6.84      Well below average   \n",
       "39497  Once in a day - Morning                   4.60  Slightly above average   \n",
       "39498                 All time                   8.29      Well below average   \n",
       "\n",
       "      Dust_and_Noise  Air_Quality_Index  Neighborhood_Review  \\\n",
       "39494         Medium               80.0                 3.56   \n",
       "39495         Medium               86.0                 2.93   \n",
       "39496         Medium              137.0                 3.80   \n",
       "39497            NaN               88.0                 3.25   \n",
       "39498           High              132.0                 4.67   \n",
       "\n",
       "       Habitability_score  \n",
       "39494               73.43  \n",
       "39495               79.91  \n",
       "39496               81.44  \n",
       "39497               71.33  \n",
       "39498               83.25  "
      ]
     },
     "execution_count": 54,
     "metadata": {},
     "output_type": "execute_result"
    }
   ],
   "source": [
    "data.tail()"
   ]
  },
  {
   "cell_type": "code",
   "execution_count": null,
   "id": "f3131379",
   "metadata": {},
   "outputs": [],
   "source": []
  }
 ],
 "metadata": {
  "kernelspec": {
   "display_name": "Python 3 (ipykernel)",
   "language": "python",
   "name": "python3"
  },
  "language_info": {
   "codemirror_mode": {
    "name": "ipython",
    "version": 3
   },
   "file_extension": ".py",
   "mimetype": "text/x-python",
   "name": "python",
   "nbconvert_exporter": "python",
   "pygments_lexer": "ipython3",
   "version": "3.9.7"
  }
 },
 "nbformat": 4,
 "nbformat_minor": 5
}
